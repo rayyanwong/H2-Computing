{
 "cells": [
  {
   "cell_type": "markdown",
   "metadata": {},
   "source": [
    "# 02. Boolean & Conditionals Notes (P)"
   ]
  },
  {
   "cell_type": "markdown",
   "metadata": {},
   "source": [
    "#### Boolean represents 2 values: `True` or `False`\n",
    "\n",
    "* `True` is also represented by 1\n",
    "* `False` is also represented by 0"
   ]
  },
  {
   "cell_type": "code",
   "execution_count": 1,
   "metadata": {},
   "outputs": [
    {
     "name": "stdout",
     "output_type": "stream",
     "text": [
      "Type of x is:  <class 'bool'>\n",
      "Value of x is:  True\n",
      "Type of y is:  <class 'bool'>\n",
      "Value of y is:  False\n"
     ]
    }
   ],
   "source": [
    "x = True\n",
    "print(\"Type of x is: \", type(x))\n",
    "print(\"Value of x is: \", x)\n",
    "\n",
    "y = False\n",
    "print(\"Type of y is: \",type(y))\n",
    "print(\"Value of y is: \", y)"
   ]
  },
  {
   "cell_type": "markdown",
   "metadata": {},
   "source": [
    "In programming you need to know if an expression is `True` or `False`\n",
    "\n",
    "* Evaluating any expression in Python will give you a <b>Boolean answer</b>\n",
    "\n",
    "* You can also get a <b>Boolean answer</b> from comparing two values using the comparison operators!\n",
    "\n",
    "\n",
    "\n",
    "| Operator | Name | Example |\n",
    "| --- | --- | --- |\n",
    "|== |\tEqual |\tx == y |\t\n",
    "|!= |\tNot equal |\tx != y |\t\n",
    "|> |\tGreater than |\tx > y \t|\n",
    "|< |\tLess than |\tx < y |\t\n",
    "|>= |\tGreater than or equal to |\tx >= y \t|\n",
    "|<= |\tLess than or equal to |\tx <= y|"
   ]
  },
  {
   "cell_type": "markdown",
   "metadata": {},
   "source": [
    "<b><u>Exercise 1:</u> Can you guess the boolean answer from the expression?</b>"
   ]
  },
  {
   "cell_type": "code",
   "execution_count": null,
   "metadata": {},
   "outputs": [],
   "source": [
    "# Expression 1\n",
    "\n",
    "print(99>10)\n",
    "\n",
    "# Expression 2\n",
    "\n",
    "print(100<-1)\n",
    "\n",
    "# Expression 3\n",
    "\n",
    "print(10==10)\n",
    "\n",
    "# Expression 4\n",
    "\n",
    "print(8!=8)\n",
    "\n",
    "# Expression 5\n",
    "\n",
    "print(10>=2)\n",
    "\n",
    "# Expression 6\n",
    "\n",
    "print(2<=2)"
   ]
  },
  {
   "cell_type": "markdown",
   "metadata": {},
   "source": [
    "## <u>Boolean Operators</u>"
   ]
  },
  {
   "cell_type": "markdown",
   "metadata": {},
   "source": [
    "| Operator | Description | Example |\n",
    "| --- | --- | --- |\n",
    "|and  |\tReturns True if both statements are true |\tx < 5 and  x < 10 \t|\n",
    "|or |\tReturns True if one of the statements is true |\tx < 5 or x < 4 \t|\n",
    "|not |\tReverse the result, returns False if the result is true |\tnot(x < 5 and x < 10)|"
   ]
  },
  {
   "cell_type": "markdown",
   "metadata": {},
   "source": [
    "<b><u>Exercise 2:</u> Can you guess the boolean answer from the following expressions?</b>"
   ]
  },
  {
   "cell_type": "code",
   "execution_count": null,
   "metadata": {},
   "outputs": [],
   "source": [
    "# Expression 1: What is x and y?\n",
    "\n",
    "x = True\n",
    "y = False\n",
    "print(x and y)\n",
    "\n",
    "# Expression 2: What is a or b?\n",
    "\n",
    "a = True\n",
    "b = False\n",
    "print (a or b)\n",
    "\n",
    "\n",
    "# Expression 3: What is not(c) ? \n",
    "\n",
    "c = False\n",
    "print(not(c))\n",
    "\n",
    "\n",
    "#Try it yourself! Change the values of any variable and see what the result is!"
   ]
  },
  {
   "cell_type": "markdown",
   "metadata": {},
   "source": [
    "<b><u>Exercise 3:</u> Can you guess the boolean answer from a more complex expression?</b>"
   ]
  },
  {
   "cell_type": "code",
   "execution_count": null,
   "metadata": {},
   "outputs": [],
   "source": [
    "# Expression 1\n",
    "\n",
    "x = 1\n",
    "y = 2\n",
    "\n",
    "print((x == 1) and (y >= 2))\n",
    "\n",
    "\n",
    "# Expression 2\n",
    "\n",
    "\n",
    "a = 10\n",
    "b = 9\n",
    "\n",
    "print((a<10) or (b!=2))\n",
    "\n",
    "\n",
    "# Expression 3\n",
    "\n",
    "\n",
    "c = 5\n",
    "d = 6\n",
    "\n",
    "print(not(c<=d))"
   ]
  },
  {
   "cell_type": "markdown",
   "metadata": {},
   "source": [
    "### Evaluate Values and Variables"
   ]
  },
  {
   "cell_type": "markdown",
   "metadata": {},
   "source": [
    "The `bool()` function allows you to evaluate any value, and gives you `True` or `False` in return"
   ]
  },
  {
   "cell_type": "markdown",
   "metadata": {},
   "source": [
    "<b><u>Exercise 4:</u> Try evaluating the following expressions!</b>"
   ]
  },
  {
   "cell_type": "code",
   "execution_count": 4,
   "metadata": {},
   "outputs": [
    {
     "name": "stdout",
     "output_type": "stream",
     "text": [
      "True\n",
      "True\n",
      "True\n",
      "False\n",
      "False\n",
      "False\n",
      "False\n"
     ]
    }
   ],
   "source": [
    "print(bool(10))\n",
    "print(bool(\"This is a string\"))\n",
    "print(bool([10,9,8,7,6,5]))\n",
    "\n",
    "print(bool(0))\n",
    "print(bool(\"\"))\n",
    "print(bool([]))\n",
    "print(bool(None))"
   ]
  },
  {
   "cell_type": "markdown",
   "metadata": {},
   "source": [
    "### <b>What do you notice?</b>\n",
    "\n",
    "<u>Most values are True</u>\n",
    "\n",
    "* Any string is `True`, unless it is an <font color=red>empty string</font>\n",
    "* Any number is `True`, unless it is <font color=red>0</font>\n",
    "* Any list, tuple, set, and dictionary is `True`, unless it is <font color=red>empty</font>\n",
    "\n",
    "\n",
    "<u>Some values are False</u>\n",
    "\n",
    "Conversely, not many values are `False` unless they are\n",
    "\n",
    "* Empty values such as `[], {}, (), \"\"`\n",
    "* The number `0`\n",
    "* The value `None`\n",
    "* The value `False`"
   ]
  },
  {
   "cell_type": "markdown",
   "metadata": {},
   "source": [
    "## <u>Conditionals</u>"
   ]
  },
  {
   "cell_type": "markdown",
   "metadata": {},
   "source": [
    "When you run a condition in an if statement, Python returns `True` or `False`"
   ]
  },
  {
   "cell_type": "markdown",
   "metadata": {},
   "source": [
    "<u>1. <b>If</b> statements</u>\n",
    "\n",
    "The following is the structure of an \"If statement\"\n",
    "\n",
    "<pre>\n",
    "<font color=orange>if</font> <font color=green>(boolean expression)</font>:\n",
    "    <font color=biege>code1</font>\n",
    "<font color=biege>code2</font>\n",
    "\n",
    "</pre>\n",
    "\n",
    "<u>How does an `if` statement work?</u>\n",
    "\n",
    "1. Evaluates the boolean expression and returns `True` or `False`<br><br>\n",
    "2. If the boolean expression is `True`, \n",
    "    * it executes the <b>Indented</b> code represented by `code1`. \n",
    "    * Then, it moves on to `code2` ( after the idented code ) <br><br>\n",
    "3. If the boolean expression is `False`,\n",
    "    * It <b>ignores</b> the idented code represented by `code1`,\n",
    "    * And, it continues to run any code <b>AFTER</b> the idented code, `code2` <br><br>\n",
    "\n",
    "\n",
    "\n",
    "<font color=yellow>Tip: </font> Think of it like an english statement, if (...) is true, then do something."
   ]
  },
  {
   "cell_type": "code",
   "execution_count": 6,
   "metadata": {},
   "outputs": [
    {
     "name": "stdout",
     "output_type": "stream",
     "text": [
      "Bob and Mark took the same test\n"
     ]
    }
   ],
   "source": [
    "bob_score = 100\n",
    "mark_score = 99\n",
    "\n",
    "if (bob_score<mark_score): # if bob scored less than mark, the boolean expression will return True, if bob scored MORE than mark, the boolean expression will return False\n",
    "    print(\"Bob scored less than mark!\")\n",
    "\n",
    "print(\"Bob and Mark took the same test\")"
   ]
  },
  {
   "cell_type": "markdown",
   "metadata": {},
   "source": [
    "<u>2. <b>If-Else statements</b></u>\n",
    "\n",
    "The following is the structure of an \"If-Else statement\"\n",
    "\n",
    "<pre>\n",
    "<font color=orange>if</font> <font color=green>(boolean expression)</font>:\n",
    "    <font color=biege>code1</font>\n",
    "\n",
    "<font color=orange>else</font>:\n",
    "    <font color=biege>code2</font>\n",
    "\n",
    "<font color=biege>code3</font>\n",
    "</pre>\n",
    "\n",
    "<u>How does an `if...else...` statement work?</u>\n",
    "\n",
    "1. Similar to an if statement, it evaluates the boolean expression and returns `True` or `False`\n",
    "2. If the boolean expression is `True`,\n",
    "* It executes the <b>Idented</b> code represented by `code1`\n",
    "* Then, it moves on to `code3` ( after the whole if-else statement )\n",
    "3. If the boolean expression is `False`,\n",
    "* It ignores the code under the `if` line, represented by `code1`\n",
    "* Instead, it executes the <b>Idented</b> code under the `else` line, represented by `code2`\n",
    "* Then, it moves on to `code3` ( after the whole if-else statement )\n",
    "\n",
    "\n",
    " <u>What observations can you make?</u>\n",
    "\n",
    " * The code that is <font color=red>NOT</font> in any conditional statement is ALWAYS executed\n",
    " * Only `code1` OR `code2` is executed, depending on whether the boolean expression is `True` or `False`\n",
    " \n",
    "\n",
    " <font color=yellow>Tip: </font> You can think of it as an English statement as well, \n",
    " * if (a condition), do this,\n",
    " * if not, do that."
   ]
  },
  {
   "cell_type": "code",
   "execution_count": null,
   "metadata": {},
   "outputs": [],
   "source": [
    "bob_score = 100\n",
    "mark_score = 99\n",
    "\n",
    "if (bob_score<mark_score): # if bob scored less than mark, the boolean expression will return True, if bob scored MORE than mark, the boolean expression will return False\n",
    "    print(\"Bob scored less than mark!\") # <--- code1\n",
    "else:\n",
    "    print(\"Bob scored more than mark!\") # <--- code2\n",
    "\n",
    "print(\"Bob and Mark took the same test\") # <--- code3\n",
    "\n",
    "\n",
    "#  Do you think you can you explain this code snippet?"
   ]
  },
  {
   "cell_type": "markdown",
   "metadata": {},
   "source": [
    "<u><b>3. If-Elif-Else Statements</b></u>\n",
    "\n",
    "The following is the structure of an \"If-Elif-Else\" statement\n",
    "\n",
    "<pre>\n",
    "<font color=orange>if</font> <font color=green>(boolean expression 1)</font>:\n",
    "    <font color=biege>code1</font>\n",
    "\n",
    "<font color=orange>elif</font> <font color=green>(boolean expression 2)</font>:\n",
    "    <font color=biege>code2</font>\n",
    "\n",
    "<font color=orange>else</font>:\n",
    "    <font color=biege>code3</font>\n",
    "\n",
    "<font color=biege>code4</font>\n",
    "</pre>\n",
    "\n",
    "<u>How does an `if...elif...else` statement work?</u>\n",
    "\n",
    "1. Evaluates whether boolean expression 1 is `True` or `False`<br><br>\n",
    "2. If (boolean expression 1) is `True`\n",
    "* Execute `code1`\n",
    "* Break out of the conditional statement and execute `code4`<br><br>\n",
    "3. If (boolean expression 1) is `False`\n",
    "* Move to the next check and evaluate (boolean expression 2)\n",
    "4. If (boolean expression 2) is `True`\n",
    "* Execute `code2`\n",
    "* Break out of the conditional statement and execute `code4`\n",
    "5. If (boolean expression 2) is `False`\n",
    "- This means both (boolean expression 1) and (boolean expression 2) are `False`\n",
    "- Thus, you will fallback to the `else` statement, \n",
    "* Execute `code3`\n",
    "* Break out of the conditional statement and execute `code4`\n"
   ]
  },
  {
   "cell_type": "code",
   "execution_count": null,
   "metadata": {},
   "outputs": [],
   "source": [
    "bob_score = 100\n",
    "mark_score = 99\n",
    "\n",
    "if (bob_score<mark_score): # if bob scored less than mark, the boolean expression will return True, else the boolean expression will return False\n",
    "    print(\"Bob scored less than mark!\") # <--- code1\n",
    "elif (bob_score == mark_score): # if bob scored the same as mark, the boolean expression will return True, else it will return False\n",
    "    print(\"Bob scored the same as mark!\") # <--- code2\n",
    "else:                           # at this point, Bob neither has the same marks as Mark or scored less than mark, THUS the only result is Bob scored MORE than mark\n",
    "    print(\"Bob scored more than mark!\") # <--- code3\n",
    "\n",
    "print(\"Bob and Mark took the same test\") # <--- code4\n",
    "\n",
    "\n",
    "#  Do you think you can you explain this code snippet?"
   ]
  }
 ],
 "metadata": {
  "kernelspec": {
   "display_name": "Python 3",
   "language": "python",
   "name": "python3"
  },
  "language_info": {
   "codemirror_mode": {
    "name": "ipython",
    "version": 3
   },
   "file_extension": ".py",
   "mimetype": "text/x-python",
   "name": "python",
   "nbconvert_exporter": "python",
   "pygments_lexer": "ipython3",
   "version": "3.11.4"
  }
 },
 "nbformat": 4,
 "nbformat_minor": 2
}
