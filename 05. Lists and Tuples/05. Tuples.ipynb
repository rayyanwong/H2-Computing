{
 "cells": [
  {
   "cell_type": "markdown",
   "metadata": {},
   "source": [
    "# 05. Tuples"
   ]
  },
  {
   "cell_type": "markdown",
   "metadata": {},
   "source": [
    "## Tuples\n",
    "\n",
    "<b>Tuples</b> are used to store <b><u>multiple</u></b> items in a single variable. (Similar to Lists)\n",
    "- Used to store collections of data\n",
    "- Can contain elements of different data types\n",
    "- Created using round brackets\n",
    "\n",
    "\n",
    "<b>Tuple items</b>\n",
    "- <u>Ordered:</u> It has a defined order, and that order will not change unless altered. New items added to list will be placed at the end of the list\n",
    "- <u>Unchangeable:</u> Tuples are UNCHANGEABLE, meaning we cannot change, add or remove items after the tuple has been created!\n",
    "- <u>Allow duplicate values:</u> We can have items with the same value\n",
    "- <u>Index:</u> First item has index <font color=red> [0]</font> , second item has index <font color=red> [1]</font>\n",
    "\n",
    "\n",
    "<b>You can get the length of a tuple using the `len()` method!</b>\n",
    "\n",
    "Example: Creating Tuples!"
   ]
  },
  {
   "cell_type": "code",
   "execution_count": 4,
   "metadata": {},
   "outputs": [
    {
     "name": "stdout",
     "output_type": "stream",
     "text": [
      "(100,)\n",
      "100\n",
      "4\n"
     ]
    }
   ],
   "source": [
    "# Define an empty tuple\n",
    "tup_a = ()\n",
    "\n",
    "# Define a tuple with only one element\n",
    "tup_b = (100,)\n",
    "print(tup_b)\n",
    "\n",
    "# What about this?\n",
    "tup_c = (100)\n",
    "print(tup_c)\n",
    "\n",
    "# Define a tuple with more than one element\n",
    "tup_d = (1, 2, 3, \"Happy new year!\")\n",
    "\n",
    "# Printing the length of a tuple\n",
    "print(len(tup_d))"
   ]
  },
  {
   "cell_type": "markdown",
   "metadata": {},
   "source": [
    "##### <u>Tuple Indexing and Slicing</u>\n",
    "\n",
    "Can you guess what are the outputs when you perform the following actions? \n",
    "\n",
    "<font color=orange>Tip:</font> Tuples are similar to lists, try recalling what you have learnt from lists and apply it here!"
   ]
  },
  {
   "cell_type": "code",
   "execution_count": 5,
   "metadata": {},
   "outputs": [],
   "source": [
    "tup = (10, 20, 30, 40, 50, 60, 70, 80, 90, 100, (110, 120, 130))"
   ]
  },
  {
   "cell_type": "code",
   "execution_count": null,
   "metadata": {},
   "outputs": [],
   "source": [
    "print(tup[6])\n",
    "print(tup[-1][1])\n",
    "print(tup[0:2])"
   ]
  },
  {
   "cell_type": "markdown",
   "metadata": {},
   "source": [
    "##### <b>Changing Tuple Values</b>\n",
    "\n",
    "Once a tuple is created, you cannot change its values.\n",
    "\n",
    "Tuples are <b>unchangeable</b>, or <b>immutable</b>.\n",
    "\n",
    "However, there are workarounds to this. \n",
    "\n",
    "\n",
    "#### <b>Adding Items</b>\n",
    "\n",
    "##### <u>Method 1:</u> Converting into a list\n",
    "\n",
    "Example: Convert the tuple into a `list`, update the `list`, then convert it back to a `tuple` ( Typecasting )"
   ]
  },
  {
   "cell_type": "code",
   "execution_count": 6,
   "metadata": {},
   "outputs": [
    {
     "name": "stdout",
     "output_type": "stream",
     "text": [
      "New x is:  ('apples', 'kiwi', 'cherries')\n"
     ]
    }
   ],
   "source": [
    "x = ('apples', 'bananas', 'cherries')\n",
    "y = list(x) # Typecasting, changing type of tuple into a list\n",
    "y[1] = 'kiwi'\n",
    "x = tuple(y)\n",
    "\n",
    "print(\"New x is: \", x)"
   ]
  },
  {
   "cell_type": "markdown",
   "metadata": {},
   "source": [
    "##### <u>Method 2:</u> Adding tuple to a tuple\n",
    "\n",
    "You are allowed to <u>add tuples to tuples</u>, so if you want to add one or more items,\n",
    "- Create a new tuple with the item(s) to add,\n",
    "- Add it to the existing tuple\n",
    "\n",
    "Example: Adding \"oranges\" into an existing fruit tuple"
   ]
  },
  {
   "cell_type": "code",
   "execution_count": 7,
   "metadata": {},
   "outputs": [
    {
     "name": "stdout",
     "output_type": "stream",
     "text": [
      "New fruits:  ('apples', 'bananas', 'cherries', 'oranges')\n"
     ]
    }
   ],
   "source": [
    "fruits = ('apples', 'bananas', 'cherries')\n",
    "to_add = ('oranges',)\n",
    "fruits = fruits + to_add\n",
    "\n",
    "print(\"New fruits: \", fruits)"
   ]
  },
  {
   "cell_type": "markdown",
   "metadata": {},
   "source": [
    "#### <b>Removing Items</b>\n",
    "\n",
    "Similarly, you cannot remove items from tuples, however, you can use the same workaround as we used for changing and adding tuple items!\n",
    "\n",
    "##### <u>Method 1: </u>Converting the tuple into a list"
   ]
  },
  {
   "cell_type": "code",
   "execution_count": 8,
   "metadata": {},
   "outputs": [
    {
     "name": "stdout",
     "output_type": "stream",
     "text": [
      "New x is:  ('bananas', 'cherries')\n"
     ]
    }
   ],
   "source": [
    "x = ('apples', 'bananas', 'cherries')\n",
    "y = list(x)\n",
    "y.remove(\"apples\")\n",
    "x = tuple(y)\n",
    "\n",
    "print(\"New x is: \", x)"
   ]
  },
  {
   "cell_type": "markdown",
   "metadata": {},
   "source": [
    "You can also delete a tuple completely using the `del` keyword\n",
    "\n",
    "Example: Deleting a tuple"
   ]
  },
  {
   "cell_type": "code",
   "execution_count": 9,
   "metadata": {},
   "outputs": [],
   "source": [
    "x = ('apples', 'bananas', 'cherries')\n",
    "del x"
   ]
  },
  {
   "cell_type": "markdown",
   "metadata": {},
   "source": [
    "<b><u>Exercise 1:</u> Can you guess what the following code snippets will return?</b>"
   ]
  },
  {
   "cell_type": "code",
   "execution_count": 11,
   "metadata": {},
   "outputs": [],
   "source": [
    "tup1 = (1,2,3)\n",
    "tup2 = tup1 * 2"
   ]
  },
  {
   "cell_type": "code",
   "execution_count": 16,
   "metadata": {},
   "outputs": [],
   "source": [
    "tup3 = (4,2,3)\n",
    "tup4 = (2,3,4)\n",
    "tup5 = tup3 + tup4"
   ]
  },
  {
   "cell_type": "code",
   "execution_count": 18,
   "metadata": {},
   "outputs": [],
   "source": [
    "tup6 = (\"hello\", \"world\")\n",
    "list6 = list(tup6)\n",
    "list6[1] = \"bob\"\n",
    "tup7 = tuple(list6)"
   ]
  },
  {
   "cell_type": "markdown",
   "metadata": {},
   "source": [
    "What can you observe from the code snippets above?\n",
    "\n",
    "- What operators can be used on tuples?\n",
    "- How do tuples interact together with different operators\n",
    "- How are tuples being modified?"
   ]
  },
  {
   "cell_type": "markdown",
   "metadata": {},
   "source": [
    "##### <b>Unpacking Tuples</b>\n",
    "\n",
    "When we create a tuple, we normally assign values to it. This is called \"packing\" a tuple:\n",
    "\n",
    "Example of packing a tuple: \n",
    "\n",
    "`fruits = (\"apple\", \"banana\", \"cherry\")`\n",
    "\n",
    "But, in Python, we can also extract the values bakc into variables. Refered to as \"unpacking\"."
   ]
  },
  {
   "cell_type": "code",
   "execution_count": 19,
   "metadata": {},
   "outputs": [
    {
     "name": "stdout",
     "output_type": "stream",
     "text": [
      "apple\n",
      "banana\n",
      "cherry\n"
     ]
    }
   ],
   "source": [
    "fruits = (\"apple\", \"banana\", \"cherry\")\n",
    "\n",
    "(fruit1, fruit2, fruit3) = fruits\n",
    "\n",
    "print(fruit1)\n",
    "print(fruit2)\n",
    "print(fruit3)"
   ]
  },
  {
   "cell_type": "markdown",
   "metadata": {},
   "source": [
    "If the number of variables is less than the number of values, you can add an `*` to the variable name and the rest of the values will be assigned to the variable as a `list`\n",
    "\n",
    "Example: Assigning the rest of the variables as a list of `remaining_fruits`"
   ]
  },
  {
   "cell_type": "code",
   "execution_count": 21,
   "metadata": {},
   "outputs": [
    {
     "name": "stdout",
     "output_type": "stream",
     "text": [
      "apple\n",
      "banana\n",
      "cherry\n",
      "['durian', 'kiwi', 'strawberry']\n"
     ]
    }
   ],
   "source": [
    "fruits = (\"apple\", \"banana\", \"cherry\",\"durian\", \"kiwi\", \"strawberry\")\n",
    "\n",
    "(fruit1, fruit2, fruit3, *remaining_fruits) = fruits\n",
    "\n",
    "print(fruit1)\n",
    "print(fruit2)\n",
    "print(fruit3)\n",
    "print(remaining_fruits)"
   ]
  }
 ],
 "metadata": {
  "kernelspec": {
   "display_name": "Python 3",
   "language": "python",
   "name": "python3"
  },
  "language_info": {
   "codemirror_mode": {
    "name": "ipython",
    "version": 3
   },
   "file_extension": ".py",
   "mimetype": "text/x-python",
   "name": "python",
   "nbconvert_exporter": "python",
   "pygments_lexer": "ipython3",
   "version": "3.11.4"
  }
 },
 "nbformat": 4,
 "nbformat_minor": 2
}
