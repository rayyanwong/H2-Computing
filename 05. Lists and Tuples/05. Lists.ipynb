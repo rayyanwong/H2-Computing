{
 "cells": [
  {
   "cell_type": "markdown",
   "metadata": {},
   "source": [
    "# 05. Lists"
   ]
  },
  {
   "cell_type": "markdown",
   "metadata": {},
   "source": [
    "## Lists"
   ]
  },
  {
   "cell_type": "markdown",
   "metadata": {},
   "source": [
    "<b>Lists</b> are used to store <b><u>multiple</u></b> items in a single variable.\n",
    "- Used to store collections of data\n",
    "- Can contain elements of different data types\n",
    "- Created using square brackets\n",
    "\n",
    "\n",
    "<b>List items</b>\n",
    "- <u>Ordered:</u> It has a defined order, and that order will not change unless altered. New items added to list will be placed at the end of the list\n",
    "- <u>Changeable:</u> We can change, add, and remove items in a list\n",
    "- <u>Allow duplicate values:</u> We can have items with the same value\n",
    "- <u>Index:</u> First item has index <font color=red> [0]</font> , second item has index <font color=red> [1]</font>\n",
    "\n",
    "\n",
    "<b>You can get the length of a list using the `len()` method!</b>"
   ]
  },
  {
   "cell_type": "markdown",
   "metadata": {},
   "source": [
    "<b><u>Exercise 1:</u> Create your own list</b>"
   ]
  },
  {
   "cell_type": "code",
   "execution_count": 1,
   "metadata": {},
   "outputs": [
    {
     "name": "stdout",
     "output_type": "stream",
     "text": [
      "Your list is:  []\n"
     ]
    }
   ],
   "source": [
    "example_list = [\"Apples\", \"Cherries\", \"Bananas\"]\n",
    "empty_list = []\n",
    "my_details = [\"Thomas\", 13, \"H2 Computing\"]\n",
    "\n",
    "# Try creating your own list!\n",
    "\n",
    "your_list = []\n",
    "\n",
    "print(\"Your list is: \", your_list)"
   ]
  },
  {
   "cell_type": "markdown",
   "metadata": {},
   "source": [
    "##### <b>Getting index of item</b>\n",
    "\n",
    "The `index()` method returns the first index of a given value in the list or raises a ValueError if it is not found\n",
    "\n",
    "Example: Getting the index of cherry in fruits list"
   ]
  },
  {
   "cell_type": "code",
   "execution_count": 19,
   "metadata": {},
   "outputs": [
    {
     "name": "stdout",
     "output_type": "stream",
     "text": [
      "Index of cherry is:  2\n"
     ]
    }
   ],
   "source": [
    "fruits = [\"apple\", \"banana\", \"cherry\"]\n",
    "print(\"Index of cherry is: \", fruits.index(\"cherry\"))"
   ]
  },
  {
   "cell_type": "markdown",
   "metadata": {},
   "source": [
    "##### <b>Access List Items</b>\n",
    "\n",
    "List items are <u>indexed</u> and you can access them by referring to the index number\n",
    "\n",
    "Example: Printing the second item (\"One\") of the list:"
   ]
  },
  {
   "cell_type": "code",
   "execution_count": 3,
   "metadata": {},
   "outputs": [
    {
     "name": "stdout",
     "output_type": "stream",
     "text": [
      "One\n"
     ]
    }
   ],
   "source": [
    "my_list = [\"Zero\",\"One\", \"Two\", \"Three\", \"Four\"]\n",
    "print(my_list[1]) # <---- Do you know why it is [1] instead of [2]?"
   ]
  },
  {
   "cell_type": "markdown",
   "metadata": {},
   "source": [
    "<b><u>Exercise 2:</u> Try printing out the second last item of the list!</b>"
   ]
  },
  {
   "cell_type": "code",
   "execution_count": 4,
   "metadata": {},
   "outputs": [],
   "source": [
    "my_list_2 = [\"Pen\", \"Boots\", \"Sharpener\", \"Eraser\", \"Calculator\"]\n",
    "# print(my_list_2[])"
   ]
  },
  {
   "cell_type": "markdown",
   "metadata": {},
   "source": [
    "<b><u>Exercise 3:</u> Try printing out the third, fourth and fifth item!</b>"
   ]
  },
  {
   "cell_type": "code",
   "execution_count": 5,
   "metadata": {},
   "outputs": [],
   "source": [
    "my_list_3 = [\"apple\", \"banana\", \"cherry\", \"orange\", \"kiwi\", \"melon\", \"mango\"]\n",
    "# print(my_list_3[]) \n",
    "\n",
    "\n",
    "# Tip: Try using range of indexes (refer to strings notes)"
   ]
  },
  {
   "cell_type": "markdown",
   "metadata": {},
   "source": [
    "##### <b>Check if an Item exists in a list</b>\n",
    "\n",
    "To determine if a specified item is present in a list, you can use the `in` keyword\n",
    "\n",
    "Example: Check if \"apple\" is in the list!"
   ]
  },
  {
   "cell_type": "code",
   "execution_count": 8,
   "metadata": {},
   "outputs": [
    {
     "name": "stdout",
     "output_type": "stream",
     "text": [
      "Yes, apple is in the fruits list!\n"
     ]
    }
   ],
   "source": [
    "fruits = [\"apple\", \"banana\", \"cherry\"]\n",
    "if \"apple\" in fruits:\n",
    "    print(\"Yes, apple is in the fruits list!\")"
   ]
  },
  {
   "cell_type": "markdown",
   "metadata": {},
   "source": [
    "##### <b>Change List Items</b>\n",
    "\n",
    "You can change the value of a specific item by referring to the index number!\n",
    "\n",
    "Example: Changing the second item of the list"
   ]
  },
  {
   "cell_type": "code",
   "execution_count": 9,
   "metadata": {},
   "outputs": [
    {
     "name": "stdout",
     "output_type": "stream",
     "text": [
      "Second item before changing:  Keys\n",
      "Second item after changing:  Water Bottle\n"
     ]
    }
   ],
   "source": [
    "my_items = [\"Wallet\", \"Keys\", \"Laptop\"]\n",
    "print(\"Second item before changing: \", my_items[1])\n",
    "my_items[1] = \"Water Bottle\"\n",
    "print(\"Second item after changing: \", my_items[1])"
   ]
  },
  {
   "cell_type": "markdown",
   "metadata": {},
   "source": [
    "##### <b>Append Items into List</b>\n",
    "\n",
    "To add an item to the <u>end</u> of the list, use the `append()` method\n",
    "\n",
    "Example: Adding \"orange\" into a list of fruits"
   ]
  },
  {
   "cell_type": "code",
   "execution_count": 10,
   "metadata": {},
   "outputs": [
    {
     "name": "stdout",
     "output_type": "stream",
     "text": [
      "Fruits after appending is:  ['apple', 'banana', 'cherry', 'orange']\n"
     ]
    }
   ],
   "source": [
    "fruits = [\"apple\", \"banana\", \"cherry\"]\n",
    "fruits.append(\"orange\")\n",
    "print(\"Fruits after appending is: \", fruits)"
   ]
  },
  {
   "cell_type": "markdown",
   "metadata": {},
   "source": [
    "##### <b>Insert Items into List</b>\n",
    "\n",
    "To insert a list item at a specified index, use the `insert()` method.\n",
    "\n",
    "Example: Inserting an item as the second position"
   ]
  },
  {
   "cell_type": "code",
   "execution_count": 11,
   "metadata": {},
   "outputs": [
    {
     "name": "stdout",
     "output_type": "stream",
     "text": [
      "Fruits after inserting is:  ['apple', 'orange', 'banana', 'cherry']\n"
     ]
    }
   ],
   "source": [
    "fruits = [\"apple\", \"banana\", \"cherry\"]\n",
    "fruits.insert(1, \"orange\")\n",
    "print(\"Fruits after inserting is: \", fruits)"
   ]
  },
  {
   "cell_type": "markdown",
   "metadata": {},
   "source": [
    "##### <b>List Concatenation</b>\n",
    "\n",
    "This allows us to merge the contents of two or more lists in order using the `+` operator\n",
    "\n",
    "Example: Concatenating 2 lists together"
   ]
  },
  {
   "cell_type": "code",
   "execution_count": 12,
   "metadata": {},
   "outputs": [
    {
     "name": "stdout",
     "output_type": "stream",
     "text": [
      "The combined list is:  ['One', 'Two', 'Three', 'Four', 'Five', 'Six']\n"
     ]
    }
   ],
   "source": [
    "my_list = [\"One\", \"Two\", \"Three\"]\n",
    "my_list_2 = [\"Four\", \"Five\", \"Six\"]\n",
    "\n",
    "combined_list = my_list + my_list_2\n",
    "\n",
    "print(\"The combined list is: \", combined_list)"
   ]
  },
  {
   "cell_type": "markdown",
   "metadata": {},
   "source": [
    "##### <b>Extending Lists</b>\n",
    "\n",
    "Another way you can append the elements from another list to the current list is to use the `extend()` method\n",
    "\n",
    "Example: Adding elements of `tropical` to `fruits`"
   ]
  },
  {
   "cell_type": "code",
   "execution_count": 13,
   "metadata": {},
   "outputs": [
    {
     "name": "stdout",
     "output_type": "stream",
     "text": [
      "Extended list is:  ['apple', 'banana', 'cherry', 'mango', 'pineapple', 'papaya']\n"
     ]
    }
   ],
   "source": [
    "fruits = [\"apple\", \"banana\", \"cherry\"]\n",
    "tropical = [\"mango\", \"pineapple\", \"papaya\"]\n",
    "fruits.extend(tropical)\n",
    "print(\"Extended list is: \", fruits)"
   ]
  },
  {
   "cell_type": "markdown",
   "metadata": {},
   "source": [
    "##### <b>Removing Item from Lists</b>\n",
    "\n",
    "The `remove()` method removes a specific item from the list\n",
    "\n",
    "Example: Removing banana from fruits\n",
    "\n",
    "<font color=orange>IF there are more than one item with the specified value, the `remove()` method removes the first occurrence!</font>"
   ]
  },
  {
   "cell_type": "code",
   "execution_count": 14,
   "metadata": {},
   "outputs": [
    {
     "name": "stdout",
     "output_type": "stream",
     "text": [
      "fruits after removing banana:  ['apple', 'cherry']\n"
     ]
    }
   ],
   "source": [
    "fruits = [\"apple\", \"banana\", \"cherry\"]\n",
    "fruits.remove(\"banana\")\n",
    "print(\"fruits after removing banana: \", fruits)"
   ]
  },
  {
   "cell_type": "markdown",
   "metadata": {},
   "source": [
    "##### <b>Remove Specified Index</b>\n",
    "\n",
    "The `pop()` method removes the specified index from the list\n",
    "\n",
    "Example: Remove the second item from the list"
   ]
  },
  {
   "cell_type": "code",
   "execution_count": 15,
   "metadata": {},
   "outputs": [
    {
     "name": "stdout",
     "output_type": "stream",
     "text": [
      "Fruits after popping index 1:  ['apple', 'cherry']\n"
     ]
    }
   ],
   "source": [
    "fruits = [\"apple\", \"banana\", \"cherry\"]\n",
    "fruits.pop(1)\n",
    "print(\"Fruits after popping index 1: \", fruits)"
   ]
  },
  {
   "cell_type": "code",
   "execution_count": 16,
   "metadata": {},
   "outputs": [
    {
     "name": "stdout",
     "output_type": "stream",
     "text": [
      "Fruits after popping without index:  ['apple', 'banana']\n"
     ]
    }
   ],
   "source": [
    "### If you do not specify the index, the pop() method removes the last item!\n",
    "\n",
    "fruits = [\"apple\", \"banana\", \"cherry\"]\n",
    "fruits.pop()\n",
    "print(\"Fruits after popping without index: \", fruits)"
   ]
  },
  {
   "cell_type": "markdown",
   "metadata": {},
   "source": [
    "You can also use the `del()` keyword to remove an item at a specified index!\n",
    "\n",
    "Example: Remove the first item"
   ]
  },
  {
   "cell_type": "code",
   "execution_count": 17,
   "metadata": {},
   "outputs": [
    {
     "name": "stdout",
     "output_type": "stream",
     "text": [
      "Fruits after del first item:  ['banana', 'cherry']\n"
     ]
    }
   ],
   "source": [
    "fruits = [\"apple\", \"banana\", \"cherry\"]\n",
    "del fruits[0]\n",
    "print(\"Fruits after del first item: \", fruits)"
   ]
  },
  {
   "cell_type": "markdown",
   "metadata": {},
   "source": [
    "##### <b>Clearing the List</b>\n",
    "\n",
    "You can empty out a list using the `clear()` method\n",
    "\n",
    "Example: Clearing the list content"
   ]
  },
  {
   "cell_type": "code",
   "execution_count": 18,
   "metadata": {},
   "outputs": [
    {
     "name": "stdout",
     "output_type": "stream",
     "text": [
      "Fruits before clearing:  ['apple', 'banana', 'cherry']\n",
      "Fruits after clearing:  []\n"
     ]
    }
   ],
   "source": [
    "fruits = [\"apple\", \"banana\", \"cherry\"]\n",
    "print(\"Fruits before clearing: \", fruits)\n",
    "fruits.clear()\n",
    "print(\"Fruits after clearing: \", fruits)"
   ]
  },
  {
   "cell_type": "markdown",
   "metadata": {},
   "source": [
    "##### <b>Sorting a list</b>\n",
    "\n",
    "The `sort()` method will sort the list alphanumerically, ascending, by default\n",
    "\n",
    "Example: Sorting numbers in a list"
   ]
  },
  {
   "cell_type": "code",
   "execution_count": 20,
   "metadata": {},
   "outputs": [
    {
     "name": "stdout",
     "output_type": "stream",
     "text": [
      "My sorted numbers are:  [7, 21, 24, 44, 55, 66, 92]\n"
     ]
    }
   ],
   "source": [
    "my_numbers = [92,21,44,55,66,7,24]\n",
    "my_numbers.sort()\n",
    "print(\"My sorted numbers are: \", my_numbers)"
   ]
  },
  {
   "cell_type": "markdown",
   "metadata": {},
   "source": [
    "You can also sort descending, using the keyword argument `reverse = True` within the `()`\n",
    "\n",
    "Example: Sorting numbers in a list in descending order"
   ]
  },
  {
   "cell_type": "code",
   "execution_count": 21,
   "metadata": {},
   "outputs": [
    {
     "name": "stdout",
     "output_type": "stream",
     "text": [
      "My sorted numbers are:  [92, 66, 55, 44, 24, 21, 7]\n"
     ]
    }
   ],
   "source": [
    "my_numbers = [92,21,44,55,66,7,24]\n",
    "my_numbers.sort(reverse=True)\n",
    "print(\"My sorted numbers are: \", my_numbers)"
   ]
  },
  {
   "cell_type": "markdown",
   "metadata": {},
   "source": [
    "##### <b>Reversing a List</b>\n",
    "\n",
    "You can reverse the order of a list using the `reverse()` method\n",
    "\n",
    "Example: Reversing the order of fruits"
   ]
  },
  {
   "cell_type": "code",
   "execution_count": 22,
   "metadata": {},
   "outputs": [
    {
     "name": "stdout",
     "output_type": "stream",
     "text": [
      "Reversed list is:  ['cherry', 'banana', 'apple']\n"
     ]
    }
   ],
   "source": [
    "fruits = [\"apple\", \"banana\", \"cherry\"]\n",
    "fruits.reverse()\n",
    "print(\"Reversed list is: \", fruits)"
   ]
  },
  {
   "cell_type": "markdown",
   "metadata": {},
   "source": [
    "##### <b>Copying a list</b>\n",
    "\n",
    "You <font color=red>cannot</font> copy a list simply by typing `list2 = list1`, because `list2` will only be a <i>reference</i> to `list1`. Hence, when `list1` changes, it will also be reflected in `list2`\n",
    "\n",
    "You can copy a list by using `copy()` method\n",
    "\n",
    "Example: Making a copy of a list"
   ]
  },
  {
   "cell_type": "code",
   "execution_count": 23,
   "metadata": {},
   "outputs": [
    {
     "name": "stdout",
     "output_type": "stream",
     "text": [
      "['apple', 'banana', 'cherry']\n"
     ]
    }
   ],
   "source": [
    "fruits = [\"apple\", \"banana\", \"cherry\"]\n",
    "fruits_2 = fruits.copy()\n",
    "print(fruits_2)"
   ]
  },
  {
   "cell_type": "code",
   "execution_count": 24,
   "metadata": {},
   "outputs": [
    {
     "name": "stdout",
     "output_type": "stream",
     "text": [
      "Fruits 3 is:  ['apple', 'banana', 'cherry']\n",
      "fruits after changing:  ['apple', 'durian', 'cherry']\n",
      "fruits_3 after changing:  ['apple', 'durian', 'cherry']\n"
     ]
    }
   ],
   "source": [
    "### Negative Example\n",
    "\n",
    "fruits = [\"apple\", \"banana\", \"cherry\"]\n",
    "fruits_3 = fruits\n",
    "print(\"Fruits 3 is: \", fruits_3)\n",
    "\n",
    "### changing fruits \n",
    "\n",
    "fruits[1] = \"durian\"\n",
    "print(\"fruits after changing: \", fruits)\n",
    "print(\"fruits_3 after changing: \", fruits_3)"
   ]
  },
  {
   "cell_type": "markdown",
   "metadata": {},
   "source": [
    "##### <b>Nested Lists</b>\n",
    "\n",
    "Also known as multidimensional-arrays.\n",
    "\n",
    "- You can store lists INSIDE of lists"
   ]
  },
  {
   "cell_type": "code",
   "execution_count": 25,
   "metadata": {},
   "outputs": [],
   "source": [
    "my_nested_list = [[\"John\", 17], [\"Peter\", 34]]"
   ]
  },
  {
   "cell_type": "code",
   "execution_count": 27,
   "metadata": {},
   "outputs": [
    {
     "name": "stdout",
     "output_type": "stream",
     "text": [
      "['John', 17]\n"
     ]
    }
   ],
   "source": [
    "# To access the first list in my_nested_list\n",
    "\n",
    "print(my_nested_list[0])"
   ]
  },
  {
   "cell_type": "code",
   "execution_count": 28,
   "metadata": {},
   "outputs": [
    {
     "name": "stdout",
     "output_type": "stream",
     "text": [
      "John\n"
     ]
    }
   ],
   "source": [
    "# To access the first ITEM in the FIRST list of my_nested_list\n",
    "\n",
    "print(my_nested_list[0][0])"
   ]
  }
 ],
 "metadata": {
  "kernelspec": {
   "display_name": "Python 3",
   "language": "python",
   "name": "python3"
  },
  "language_info": {
   "codemirror_mode": {
    "name": "ipython",
    "version": 3
   },
   "file_extension": ".py",
   "mimetype": "text/x-python",
   "name": "python",
   "nbconvert_exporter": "python",
   "pygments_lexer": "ipython3",
   "version": "3.11.4"
  }
 },
 "nbformat": 4,
 "nbformat_minor": 2
}
