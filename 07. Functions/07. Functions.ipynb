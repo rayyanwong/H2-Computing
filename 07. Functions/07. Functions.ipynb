{
 "cells": [
  {
   "cell_type": "markdown",
   "metadata": {},
   "source": [
    "# 07. Functions"
   ]
  },
  {
   "cell_type": "markdown",
   "metadata": {},
   "source": [
    "A <b>Function</b> is a block of code which only runs when it is called. It is used to simplify our program and reduece redundancy.\n",
    "\n",
    "Functions allow you to pass data ( known as parameters ) to be processed.\n",
    "\n",
    "A function can return data as a result.\n",
    "\n",
    "To create a function, the syntax is:\n",
    "\n",
    "<pre><font color = orange>def</font> my_function():\n",
    "    <font color=orange>your code</font>\n",
    "</pre>"
   ]
  },
  {
   "cell_type": "code",
   "execution_count": 1,
   "metadata": {},
   "outputs": [],
   "source": [
    "def my_function():\n",
    "    print(\"Hello from my_function!\")"
   ]
  },
  {
   "cell_type": "markdown",
   "metadata": {},
   "source": [
    "To call a function, use the function name followed by parenthesis: `()`"
   ]
  },
  {
   "cell_type": "code",
   "execution_count": 2,
   "metadata": {},
   "outputs": [
    {
     "name": "stdout",
     "output_type": "stream",
     "text": [
      "Hello from my_function!\n"
     ]
    }
   ],
   "source": [
    "def my_function():\n",
    "    print(\"Hello from my_function!\")\n",
    "\n",
    "my_function()"
   ]
  },
  {
   "cell_type": "markdown",
   "metadata": {},
   "source": [
    "#### <u>Arguments</u>\n",
    "\n",
    "Information can be passed into functions as <b>arguments</b>. \n",
    "\n",
    "Arguments are passed inside the parenthesis `()`. \n",
    "\n",
    "You can pass as many arguments as you like, as long as they are seperated by commas.\n",
    "\n",
    "For example, the following function takes in a name and greets the name!"
   ]
  },
  {
   "cell_type": "code",
   "execution_count": 4,
   "metadata": {},
   "outputs": [
    {
     "name": "stdout",
     "output_type": "stream",
     "text": [
      "Welcome, Thomas\n",
      "Welcome, Bob\n",
      "Welcome, James\n"
     ]
    }
   ],
   "source": [
    "def greet_name(name):\n",
    "    print(\"Welcome, \" + name)\n",
    "\n",
    "greet_name(\"Thomas\")\n",
    "greet_name(\"Bob\") \n",
    "greet_name(name=\"James\")"
   ]
  },
  {
   "cell_type": "code",
   "execution_count": 6,
   "metadata": {},
   "outputs": [
    {
     "name": "stdout",
     "output_type": "stream",
     "text": [
      "Welcome, Thomas Tan\n",
      "Welcome, Bob Banes\n",
      "Welcome, James Jr\n"
     ]
    }
   ],
   "source": [
    "def greet_full_name(first_name, last_name):\n",
    "    print(\"Welcome, \" + first_name + \" \" + last_name)\n",
    "\n",
    "greet_full_name(\"Thomas\", \"Tan\")\n",
    "greet_full_name(\"Bob\", \"Banes\")\n",
    "greet_full_name(first_name=\"James\", last_name=\"Jr\")"
   ]
  },
  {
   "cell_type": "markdown",
   "metadata": {},
   "source": [
    "When passing in arguments, you can specify which value correspond to the key (argument) specified in the function.\n",
    "\n",
    "When it is <i>not specified</i>, it follows it in order of the values passed. \n",
    "\n",
    "<b>However,</b> if you try to call a function with fewer or more arguments that it is specified, you will receive an error"
   ]
  },
  {
   "cell_type": "code",
   "execution_count": 7,
   "metadata": {},
   "outputs": [
    {
     "ename": "TypeError",
     "evalue": "greet_full_name() missing 1 required positional argument: 'last_name'",
     "output_type": "error",
     "traceback": [
      "\u001b[1;31m---------------------------------------------------------------------------\u001b[0m",
      "\u001b[1;31mTypeError\u001b[0m                                 Traceback (most recent call last)",
      "Cell \u001b[1;32mIn[7], line 6\u001b[0m\n\u001b[0;32m      2\u001b[0m     \u001b[38;5;28mprint\u001b[39m(\u001b[38;5;124m\"\u001b[39m\u001b[38;5;124mWelcome, \u001b[39m\u001b[38;5;124m\"\u001b[39m \u001b[38;5;241m+\u001b[39m first_name \u001b[38;5;241m+\u001b[39m \u001b[38;5;124m\"\u001b[39m\u001b[38;5;124m \u001b[39m\u001b[38;5;124m\"\u001b[39m \u001b[38;5;241m+\u001b[39m last_name)\n\u001b[0;32m      4\u001b[0m \u001b[38;5;66;03m## Error from giving fewer arguments\u001b[39;00m\n\u001b[1;32m----> 6\u001b[0m \u001b[43mgreet_full_name\u001b[49m\u001b[43m(\u001b[49m\u001b[38;5;124;43m\"\u001b[39;49m\u001b[38;5;124;43mTim\u001b[39;49m\u001b[38;5;124;43m\"\u001b[39;49m\u001b[43m)\u001b[49m\n\u001b[0;32m      7\u001b[0m greet_full_name(\u001b[38;5;124m\"\u001b[39m\u001b[38;5;124mJames\u001b[39m\u001b[38;5;124m\"\u001b[39m, \u001b[38;5;124m\"\u001b[39m\u001b[38;5;124mBond\u001b[39m\u001b[38;5;124m\"\u001b[39m, \u001b[38;5;124m\"\u001b[39m\u001b[38;5;124mChua\u001b[39m\u001b[38;5;124m\"\u001b[39m)\n",
      "\u001b[1;31mTypeError\u001b[0m: greet_full_name() missing 1 required positional argument: 'last_name'"
     ]
    }
   ],
   "source": [
    "def greet_full_name(first_name, last_name):\n",
    "    print(\"Welcome, \" + first_name + \" \" + last_name)\n",
    "\n",
    "## Error from giving fewer arguments\n",
    "\n",
    "greet_full_name(\"Tim\")\n",
    "greet_full_name(\"James\", \"Bond\", \"Chua\")"
   ]
  },
  {
   "cell_type": "markdown",
   "metadata": {},
   "source": [
    "<b><u>Exercise 1:</u> Create a function called \"get_age\", which takes an input from the user of his age and print \"Your age is: {age entered}\"</b>"
   ]
  },
  {
   "cell_type": "code",
   "execution_count": null,
   "metadata": {},
   "outputs": [],
   "source": [
    "def get_age():\n",
    "    # your code here"
   ]
  },
  {
   "cell_type": "markdown",
   "metadata": {},
   "source": [
    "#### <u>Arbitrary Arguments, *args</u>\n",
    "\n",
    "When you do not know how many arguments will be passed into your function, add a `*` before the parameter name in the function defintion.\n",
    "\n",
    "The function will receive the arguments as a <i>tuple</i>, and can access the items accordingly.\n",
    "\n",
    "Example: Taking in the names of the students in the class"
   ]
  },
  {
   "cell_type": "code",
   "execution_count": 8,
   "metadata": {},
   "outputs": [
    {
     "name": "stdout",
     "output_type": "stream",
     "text": [
      "Students are:  ('Emily', 'Tom', 'Linus')\n",
      "The name of the first student is:  Emily\n"
     ]
    }
   ],
   "source": [
    "def students_name(*students):\n",
    "    print(\"Students are: \", students)\n",
    "    print(\"The name of the first student is: \", students[0])\n",
    "\n",
    "\n",
    "students_name(\"Emily\", \"Tom\", \"Linus\")"
   ]
  },
  {
   "cell_type": "markdown",
   "metadata": {},
   "source": [
    "#### <u>Arbitrary Keyword Arguments, **kwargs</u>\n",
    "\n",
    "When you do not know how many <b>KEYWORD</b> arguments that will be passed into your function, you can add two asteriks `**` before the parameter name in the function definition.\n",
    "\n",
    "This allows the function to receive a <i>dictionary</i> of arguments, and can access the items accordingly."
   ]
  },
  {
   "cell_type": "code",
   "execution_count": 10,
   "metadata": {},
   "outputs": [
    {
     "name": "stdout",
     "output_type": "stream",
     "text": [
      "Student's first name is:  Toby\n"
     ]
    }
   ],
   "source": [
    "def student_name(**kwargs):\n",
    "    print(\"Student's first name is: \", kwargs[\"first_name\"])\n",
    "\n",
    "student_name(first_name = \"Toby\", middle_name = \"Micheal\", last_name = \"Miguel\")"
   ]
  },
  {
   "cell_type": "markdown",
   "metadata": {},
   "source": [
    "#### <u>Default Parameter Value</u>\n",
    "\n",
    "You can use defauly parameter values, such that is the function is called <i>without</i> arguments, it can fallback to its default value."
   ]
  },
  {
   "cell_type": "code",
   "execution_count": 11,
   "metadata": {},
   "outputs": [
    {
     "name": "stdout",
     "output_type": "stream",
     "text": [
      "I am from Singapore\n",
      "I am from Canada\n"
     ]
    }
   ],
   "source": [
    "def my_country(country = \"Singapore\"):\n",
    "    print(\"I am from \" + country)\n",
    "\n",
    "my_country()\n",
    "my_country(\"Canada\")"
   ]
  },
  {
   "cell_type": "markdown",
   "metadata": {},
   "source": [
    "#### <u>What can be passed as Arguments?</u>\n",
    "\n",
    "You can send <b>any</b> data types of arguments to a function, i.e \n",
    "\n",
    "- string\n",
    "- integer\n",
    "- list\n",
    "- dictionary\n",
    "\n",
    "and it will still maintain it's data type inside the function.\n"
   ]
  },
  {
   "cell_type": "code",
   "execution_count": 17,
   "metadata": {},
   "outputs": [
    {
     "name": "stdout",
     "output_type": "stream",
     "text": [
      "Data type of fruits is:  <class 'list'>\n",
      "apple\n",
      "mango\n",
      "kiwi\n",
      "\n",
      "Data type of age is:  <class 'int'>\n",
      "You age is: 21\n"
     ]
    }
   ],
   "source": [
    "def my_fruits(fruits):\n",
    "    print(\"Data type of fruits is: \", type(fruits))\n",
    "    for fruit in fruits:\n",
    "        print(fruit)\n",
    "\n",
    "fruits = [\"apple\", \"mango\", \"kiwi\"]\n",
    "\n",
    "my_fruits(fruits)\n",
    "\n",
    "print() \n",
    "\n",
    "def my_age(age):\n",
    "    print(\"Data type of age is: \", type(age))\n",
    "    print(\"You age is: \" + str(age))\n",
    "\n",
    "my_age(21)"
   ]
  },
  {
   "cell_type": "markdown",
   "metadata": {},
   "source": [
    "#### <u>Return Values</u>\n",
    "\n",
    "When you want a function to return a value, you can use the `return` statement.\n",
    "\n",
    "A function by <b>DEFAULT</b> returns `None`. Sometimes, you want to compute something within the function and return the answer of the computed result.\n",
    "\n",
    "Example: A function that returns the volume of an object"
   ]
  },
  {
   "cell_type": "code",
   "execution_count": 22,
   "metadata": {},
   "outputs": [
    {
     "name": "stdout",
     "output_type": "stream",
     "text": [
      "80\n",
      "40\n",
      "None\n"
     ]
    }
   ],
   "source": [
    "def get_volume(length, breadth, height):\n",
    "    return length * breadth * height\n",
    "\n",
    "def without_return(length, breadth, height):\n",
    "    volume = length * breadth * height\n",
    "\n",
    "print(get_volume(10,2,4))\n",
    "print(get_volume(4,2,5))\n",
    "print(without_return(5,2,5))"
   ]
  },
  {
   "cell_type": "markdown",
   "metadata": {},
   "source": [
    "#### <u>Pass statement</u>\n",
    "\n",
    "A `function` definition cannot be empty as it would give you an error.\n",
    "\n",
    "However, if you happen to have a `function` without any content, you can use the `pass` statement to prevent an error from occuring."
   ]
  },
  {
   "cell_type": "code",
   "execution_count": 23,
   "metadata": {},
   "outputs": [],
   "source": [
    "def empty_function():\n",
    "    pass"
   ]
  }
 ],
 "metadata": {
  "kernelspec": {
   "display_name": "Python 3",
   "language": "python",
   "name": "python3"
  },
  "language_info": {
   "codemirror_mode": {
    "name": "ipython",
    "version": 3
   },
   "file_extension": ".py",
   "mimetype": "text/x-python",
   "name": "python",
   "nbconvert_exporter": "python",
   "pygments_lexer": "ipython3",
   "version": "3.11.4"
  }
 },
 "nbformat": 4,
 "nbformat_minor": 2
}
