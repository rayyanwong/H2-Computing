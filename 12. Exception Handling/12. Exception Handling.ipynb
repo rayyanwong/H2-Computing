{
 "cells": [
  {
   "cell_type": "markdown",
   "metadata": {},
   "source": [
    "# 12. Exception Handling"
   ]
  },
  {
   "cell_type": "markdown",
   "metadata": {},
   "source": [
    "<b>Exception Handling</b> is crucial in ensuring that your program does not crash when any errors / wrong inputs occur.\n",
    "\n",
    "Here are some keywords that are often used for exception handling:\n",
    "\n",
    "The `try` block lets you test a block of code for errors.\n",
    "\n",
    "The `except` block lets you handle the error.\n",
    "\n",
    "The `else` block lets you execute code when there is no error.\n",
    "\n",
    "The `finally` block lets you execute code, regardless of the result of the try- and except blocks.\n",
    "\n",
    "<br/>\n",
    "\n",
    "When an error occurs, also known as exceptions, Python will stop and generate an error message"
   ]
  },
  {
   "cell_type": "markdown",
   "metadata": {},
   "source": [
    "<b>Example 1:</b> Printing `x` when `x` is not defined"
   ]
  },
  {
   "cell_type": "code",
   "execution_count": 3,
   "metadata": {},
   "outputs": [
    {
     "ename": "NameError",
     "evalue": "name 'x' is not defined",
     "output_type": "error",
     "traceback": [
      "\u001b[1;31m---------------------------------------------------------------------------\u001b[0m",
      "\u001b[1;31mNameError\u001b[0m                                 Traceback (most recent call last)",
      "Cell \u001b[1;32mIn[3], line 3\u001b[0m\n\u001b[0;32m      1\u001b[0m \u001b[38;5;66;03m# without exception handling\u001b[39;00m\n\u001b[1;32m----> 3\u001b[0m \u001b[38;5;28mprint\u001b[39m(\u001b[43mx\u001b[49m)\n\u001b[0;32m      4\u001b[0m \u001b[38;5;28mprint\u001b[39m(\u001b[38;5;124m\"\u001b[39m\u001b[38;5;124mProgram continues running\u001b[39m\u001b[38;5;124m\"\u001b[39m)\n",
      "\u001b[1;31mNameError\u001b[0m: name 'x' is not defined"
     ]
    }
   ],
   "source": [
    "# without exception handling\n",
    "\n",
    "print(x)\n",
    "print(\"Program continues running\")"
   ]
  },
  {
   "cell_type": "code",
   "execution_count": 5,
   "metadata": {},
   "outputs": [
    {
     "name": "stdout",
     "output_type": "stream",
     "text": [
      "x is not defined\n",
      "Program continues running\n"
     ]
    }
   ],
   "source": [
    "# with exception handling\n",
    "\n",
    "try:\n",
    "    print(x)\n",
    "except: \n",
    "    print(\"x is not defined\")\n",
    "print(\"Program continues running\")"
   ]
  },
  {
   "cell_type": "markdown",
   "metadata": {},
   "source": [
    "Notice how without exception handling, once an error has occured, the program immediately <i>stops</i>.\n",
    "\n",
    "However, with exception handling, the program after an error has occured, moves to the code block within `except` and continues with the program, printing \"Program continues running\".\n",
    "\n",
    "<b>Observations:</b>\n",
    "\n",
    "- When the `try` block raises an error, the `except` block will be executed\n",
    "- Without the `try` block, the program will crash"
   ]
  },
  {
   "cell_type": "markdown",
   "metadata": {},
   "source": [
    "#### <u>Type of Errors</u>\n",
    "\n",
    "<table>\n",
    "    <tr>\n",
    "    <th>Name</th>\n",
    "    <th>Definition</th>\n",
    "    </tr>\n",
    "    <tr>\n",
    "        <td>\n",
    "        TypeError</td>\n",
    "        <td>\n",
    "        An error when an operation could not be performed, typically (but not exclusively) when a value is not of the expected type. Eg: \"string\" + 1</td>\n",
    "    </tr>\n",
    "    <tr>\n",
    "        <td>ValueError</td>\n",
    "        <td>\n",
    "            An error when a function receives an argument of the correct data type but an inappropriate value. Eg: int(\"fifty\")\n",
    "        </td>\n",
    "    </tr>\n",
    "    <tr>\n",
    "        <td>FileNotFoundError</td>\n",
    "        <td>An error when a file that does not exist is being opened</td>\n",
    "    </tr>\n",
    "    <tr>\n",
    "        <td>ZeroDivisionError</td>\n",
    "        <td>An error when dividing a number by 0</td>\n",
    "    </tr>\n",
    "</table>"
   ]
  },
  {
   "cell_type": "markdown",
   "metadata": {},
   "source": [
    "<b>Example 2:</b> Handling multiple exceptions.\n",
    "\n",
    "Lets create a program that takes in 2 numbers and divide the first number by the second number"
   ]
  },
  {
   "cell_type": "code",
   "execution_count": 10,
   "metadata": {},
   "outputs": [
    {
     "name": "stdout",
     "output_type": "stream",
     "text": [
      "Answer is:  10.0\n",
      "Program finished running!\n"
     ]
    }
   ],
   "source": [
    "try: \n",
    "    num1 = int(input(\"Please enter the first number: \"))\n",
    "    num2 = int(input(\"Please enter the second number: \"))\n",
    "    ans = num1/num2\n",
    "except ValueError:\n",
    "    print(\"Please enter a valid number!\")\n",
    "except ZeroDivisionError:\n",
    "    print(\"Please do not use 0 as the second number!\")\n",
    "except:\n",
    "    print(\"An error has occured\")\n",
    "else:\n",
    "    print(\"Answer is: \", ans)\n",
    "finally:\n",
    "    print(\"Program finished running!\")\n"
   ]
  },
  {
   "cell_type": "markdown",
   "metadata": {},
   "source": [
    "Notice how you can \"catch\" different types of errors within a program and display the appropriate response for each error caught.\n",
    "\n",
    "`except {type of error}`"
   ]
  },
  {
   "cell_type": "markdown",
   "metadata": {},
   "source": [
    "#### <u>Else</u>\n",
    "\n",
    "The `else` keyword will run when no errors have occured WITHIN the try...except block\n",
    "\n",
    "#### <u>Finally</u>\n",
    "\n",
    "The `finally` keyword will run with or without errors WITHIN the try...except block"
   ]
  },
  {
   "cell_type": "markdown",
   "metadata": {},
   "source": [
    "#### <u>Raising Exceptions</u>\n",
    "\n",
    "You can throw your own exception if a condition occurs.\n",
    "\n",
    "You can do so by using the `raise` keyword.\n",
    "\n",
    "<b>Example 3:</b> Raising an exception and stop the program if number entered is less than 0"
   ]
  },
  {
   "cell_type": "code",
   "execution_count": 12,
   "metadata": {},
   "outputs": [],
   "source": [
    "num = int(input(\"Enter a number: \"))\n",
    "if num < 0: \n",
    "    raise Exception(\"Number cannot be less than 0!\")"
   ]
  },
  {
   "cell_type": "code",
   "execution_count": 13,
   "metadata": {},
   "outputs": [
    {
     "ename": "ZeroDivisionError",
     "evalue": "num2 CANNOT BE 0",
     "output_type": "error",
     "traceback": [
      "\u001b[1;31m---------------------------------------------------------------------------\u001b[0m",
      "\u001b[1;31mZeroDivisionError\u001b[0m                         Traceback (most recent call last)",
      "Cell \u001b[1;32mIn[13], line 6\u001b[0m\n\u001b[0;32m      3\u001b[0m num2 \u001b[38;5;241m=\u001b[39m \u001b[38;5;28minput\u001b[39m(\u001b[38;5;124m\"\u001b[39m\u001b[38;5;124mEnter the second integer: \u001b[39m\u001b[38;5;124m\"\u001b[39m)\n\u001b[0;32m      5\u001b[0m \u001b[38;5;28;01mif\u001b[39;00m \u001b[38;5;28mint\u001b[39m(num2) \u001b[38;5;241m==\u001b[39m \u001b[38;5;241m0\u001b[39m:\n\u001b[1;32m----> 6\u001b[0m     \u001b[38;5;28;01mraise\u001b[39;00m \u001b[38;5;167;01mZeroDivisionError\u001b[39;00m(\u001b[38;5;124m\"\u001b[39m\u001b[38;5;124mnum2 CANNOT BE 0\u001b[39m\u001b[38;5;124m\"\u001b[39m)\n\u001b[0;32m      8\u001b[0m ans \u001b[38;5;241m=\u001b[39m \u001b[38;5;28mint\u001b[39m(num1)\u001b[38;5;241m/\u001b[39m\u001b[38;5;28mint\u001b[39m(num2)\n\u001b[0;32m      9\u001b[0m \u001b[38;5;28mprint\u001b[39m(\u001b[38;5;124m\"\u001b[39m\u001b[38;5;124mnum1/num2 = \u001b[39m\u001b[38;5;124m\"\u001b[39m, ans)\n",
      "\u001b[1;31mZeroDivisionError\u001b[0m: num2 CANNOT BE 0"
     ]
    }
   ],
   "source": [
    "try:\n",
    "    num1 = input(\"Enter the first integer: \")\n",
    "    num2 = input(\"Enter the second integer: \")\n",
    "    \n",
    "    if int(num2) == 0:\n",
    "        raise ZeroDivisionError(\"num2 CANNOT BE 0\")\n",
    "        \n",
    "    ans = int(num1)/int(num2)\n",
    "    print(\"num1/num2 = \", ans)\n",
    "    \n",
    "except ValueError:\n",
    "    print(\"value error encountered!\")"
   ]
  },
  {
   "cell_type": "code",
   "execution_count": null,
   "metadata": {},
   "outputs": [],
   "source": []
  }
 ],
 "metadata": {
  "kernelspec": {
   "display_name": "Python 3",
   "language": "python",
   "name": "python3"
  },
  "language_info": {
   "codemirror_mode": {
    "name": "ipython",
    "version": 3
   },
   "file_extension": ".py",
   "mimetype": "text/x-python",
   "name": "python",
   "nbconvert_exporter": "python",
   "pygments_lexer": "ipython3",
   "version": "3.11.4"
  }
 },
 "nbformat": 4,
 "nbformat_minor": 2
}
