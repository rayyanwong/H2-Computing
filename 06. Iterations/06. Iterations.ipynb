{
 "cells": [
  {
   "cell_type": "markdown",
   "metadata": {},
   "source": [
    "# 06. Iterations"
   ]
  },
  {
   "cell_type": "markdown",
   "metadata": {},
   "source": [
    "In programming, there are 2 types of Loops used for <b>Iteration</b>\n",
    "\n",
    "- `for` loops\n",
    "- `while` loops\n",
    "\n",
    "<b>Iteration</b> refers to the process of repeating a task to achieve a specific end goal.\n",
    "\n",
    "When iteration is employed, the set of instructions within the <b>loop</b> will keep repeating until a certain condition has been reached or is no longer satisfied. The result(s) of one iteration is/are used as the starting point for the next iteration.\n",
    "\n",
    "The flowchart diagram below shows how iteration works.\n",
    "\n",
    "![Iteration_img_1](iteration1.PNG)"
   ]
  },
  {
   "cell_type": "markdown",
   "metadata": {},
   "source": [
    "### <b>Range</b> method\n",
    "\n",
    "The `range()` function is often used in `for` loops. \n",
    "\n",
    "It returns a sequence of numbers, starting from 0 by default, and increments by 1 (by default), and ends at a specified number.\n",
    "\n",
    "The syntax for `range()` is\n",
    "\n",
    "`range(start,stop,step)`\n",
    "\n",
    "<i>Start</i> is an optional argument that determines the first number in the sequence. If not supplied, the value is 0 by default.\n",
    "\n",
    "<i>Stop</i> is a mandatory argument that determines the last number in the sequence, which is <i>stop</i>-1.\n",
    "\n",
    "<i>Step</i> is an optional argument that determines the increment or decrement of the numbers. If not supplied, the value is 1 by default.\n",
    "\n",
    "<font color=orange>Tip: </font>This syntax is similar to slicing!\n",
    "\n",
    "<br/>\n",
    "\n",
    "To illustrate, here are some code examples!"
   ]
  },
  {
   "cell_type": "code",
   "execution_count": 6,
   "metadata": {},
   "outputs": [
    {
     "name": "stdout",
     "output_type": "stream",
     "text": [
      "[0, 1, 2, 3, 4, 5]\n",
      "[1, 3, 5]\n",
      "[5, 3, 1]\n"
     ]
    }
   ],
   "source": [
    "a = range(6)\n",
    "print(list(a))\n",
    "\n",
    "b = range(1,6,2)\n",
    "print(list(b))\n",
    " \n",
    "\n",
    "c = range(5,-1,-2)\n",
    "print(list(c))"
   ]
  },
  {
   "cell_type": "markdown",
   "metadata": {},
   "source": [
    "## <u><b>FOR</b> loops</u>\n",
    "\n",
    "Now that you have understood how the `range()` method works, we can now study how we can use the `for` loops.\n",
    "\n",
    "A `for` loop is used to\n",
    "- loop through a set of code a specified number of times\n",
    "- execute a set of statements, once for each item in a list, tuple, string etc\n",
    "\n",
    "\n",
    "The syntax of a `for` loop together with the `range()` function looks like this:\n",
    "<br/><br/>\n",
    "<pre>\n",
    "<font color = orange>for</font> i <font color=lightblue>in</font> <font color=orange>range(start,stop,step):</font>\n",
    "    <font color=orange>do something</font>\n",
    "</pre>\n",
    "\n",
    "<br/>\n",
    "In the snippet above, the variable <i>i</i> represents the counter with an initial value of <i>start</i> (or 0 if <i>start</i> is not supplied).\n",
    "\n",
    "The iteration continues until <i>i >= stop-1</i>, executing the code in <pre>do something</pre> for each loop\n",
    "\n",
    "Take note that the body, which contains the task(s) to be performed at every iteration, has to be indented.\n",
    "\n",
    "<b>Heres an example: Printing out numbers from 0 to 5</b>"
   ]
  },
  {
   "cell_type": "code",
   "execution_count": 8,
   "metadata": {},
   "outputs": [
    {
     "name": "stdout",
     "output_type": "stream",
     "text": [
      "0\n",
      "1\n",
      "2\n",
      "3\n",
      "4\n",
      "5\n"
     ]
    }
   ],
   "source": [
    "for i in range(6):\n",
    "    print(i)\n",
    "\n",
    "\n",
    "# Do you know why it is 6?"
   ]
  },
  {
   "cell_type": "markdown",
   "metadata": {},
   "source": [
    "To illustrate what happens in each iteration in the snippet above:\n",
    "\n",
    "<table style=\"width:30%\">\n",
    "    <tr>\n",
    "        <th>Iteration</th>\n",
    "        <th>i</th> \n",
    "        <th>Execute</th>\n",
    "    </tr>\n",
    "    <tr>\n",
    "        <td>1</td>\n",
    "        <td>0</td>\n",
    "        <td>print(0)</td>\n",
    "    </tr>\n",
    "    <tr>\n",
    "        <td>2</td>\n",
    "        <td>1</td>\n",
    "        <td>print(1)</td>\n",
    "    </tr>\n",
    "    <tr>\n",
    "        <td>3</td>\n",
    "        <td>2</td>\n",
    "        <td>print(2)</td>\n",
    "    </tr>\n",
    "    <tr>\n",
    "        <td>4</td>\n",
    "        <td>3</td>\n",
    "        <td>print(3)</td>\n",
    "    </tr>\n",
    "    <tr>\n",
    "        <td>5</td>\n",
    "        <td>4</td>\n",
    "        <td>print(4)</td>\n",
    "    </tr>\n",
    "    <tr>\n",
    "        <td>6</td>\n",
    "        <td>5</td>\n",
    "        <td>print(5)</td>\n",
    "    </tr>\n",
    "    <tr>\n",
    "        <td>7</td>\n",
    "        <td>6</td>\n",
    "        <td>Exit Loop</td>\n",
    "    </tr>\n",
    "</table>\n",
    "\n",
    "In this case, <i>6</i> is the <b>stop</b> value. Hence, when the value of <i>i</i> becomes 6, the `for` loop will exit itself."
   ]
  },
  {
   "cell_type": "markdown",
   "metadata": {},
   "source": [
    "<u><b>Exercise 1:</b></u> Write a code that prints out integers 1,3,5,7"
   ]
  },
  {
   "cell_type": "code",
   "execution_count": null,
   "metadata": {},
   "outputs": [],
   "source": [
    "for i in range(_,_,_): # replace _ with numbers\n",
    "    print(i)"
   ]
  },
  {
   "cell_type": "markdown",
   "metadata": {},
   "source": [
    "<u><b>Exercise 2:</b></u> Write a code that prints out integers 5,4,3,2,1"
   ]
  },
  {
   "cell_type": "code",
   "execution_count": null,
   "metadata": {},
   "outputs": [],
   "source": [
    "for i in range(_,_,_): # replace _ with numbers\n",
    "    print(i)"
   ]
  },
  {
   "cell_type": "markdown",
   "metadata": {},
   "source": [
    "#### Printing out each item of a list using for i in range()\n",
    "\n",
    "Example: Printing out all the fruits in a list"
   ]
  },
  {
   "cell_type": "code",
   "execution_count": 9,
   "metadata": {},
   "outputs": [
    {
     "name": "stdout",
     "output_type": "stream",
     "text": [
      "apple\n",
      "banana\n",
      "cherry\n"
     ]
    }
   ],
   "source": [
    "fruits = [\"apple\", \"banana\", \"cherry\"]\n",
    "\n",
    "for i in range(len(fruits)): # len() to get the length of fruits list to find how many times to iterate THROUGH the list\n",
    "    print(fruits[i]) # using indexing to get the item in the fruits list"
   ]
  },
  {
   "cell_type": "markdown",
   "metadata": {},
   "source": [
    "You can also loop through each item in a list, tuple, string etc without the use of indexing\n",
    "\n",
    "The syntax is:\n",
    "\n",
    "<pre>\n",
    "<font color=orange>for item in list:\n",
    "    do something</font>\n",
    "</pre>"
   ]
  },
  {
   "cell_type": "code",
   "execution_count": 12,
   "metadata": {},
   "outputs": [
    {
     "name": "stdout",
     "output_type": "stream",
     "text": [
      "apple\n",
      "banana\n",
      "cherry\n"
     ]
    }
   ],
   "source": [
    "fruits = [\"apple\", \"banana\", \"cherry\"]\n",
    "\n",
    "for fruit in fruits: # make sure that the \"item\" name is clear and not the same variable name as the list\n",
    "    print(fruit) # print the \"item\" variable, in this case it is referred to as \"fruit\""
   ]
  },
  {
   "cell_type": "markdown",
   "metadata": {},
   "source": [
    "<u>Here are some more examples on for loops:</u>\n",
    "\n",
    "- Iterating through a string\n",
    "- Iterating through a list\n",
    "- Iterating through a tuple\n",
    "- Getting all even numbers from 0-10"
   ]
  },
  {
   "cell_type": "code",
   "execution_count": null,
   "metadata": {},
   "outputs": [],
   "source": [
    "my_name = \"Thomas\"\n",
    "\n",
    "# using indexing \n",
    "\n",
    "for i in range(len(my_name)):\n",
    "    print(my_name[i])\n",
    "\n",
    "print()\n",
    "# without using indexing\n",
    "\n",
    "for char in my_name: \n",
    "    print(char)"
   ]
  },
  {
   "cell_type": "code",
   "execution_count": null,
   "metadata": {},
   "outputs": [],
   "source": [
    "my_list = [31,24,35,46,25]\n",
    "\n",
    "# using indexing\n",
    "\n",
    "for i in range(len(my_list)):\n",
    "    print(my_list[i])\n",
    "\n",
    "print() \n",
    "\n",
    "# without using indexing\n",
    "\n",
    "for num in my_list: \n",
    "    print(num)"
   ]
  },
  {
   "cell_type": "code",
   "execution_count": null,
   "metadata": {},
   "outputs": [],
   "source": [
    "my_tuple = (4,3,2,1,6)\n",
    "\n",
    "# using indexing\n",
    "\n",
    "for i in range(len(my_tuple)):\n",
    "    print(my_tuple[i])\n",
    "\n",
    "print() \n",
    "\n",
    "# without using indexing\n",
    "\n",
    "for num in my_tuple: \n",
    "    print(num)"
   ]
  },
  {
   "cell_type": "code",
   "execution_count": 19,
   "metadata": {},
   "outputs": [
    {
     "name": "stdout",
     "output_type": "stream",
     "text": [
      "[0, 2, 4, 6, 8, 10]\n"
     ]
    }
   ],
   "source": [
    "even_numbers = [] # initialise an empty list to store even numbers\n",
    "\n",
    "for i in range(11): # 11 because we are trying to get even numbers from 0-10, hence 10 should be included\n",
    "    if (i%2 == 0): # using modulus to check if number is divisible by 2 \n",
    "        even_numbers.append(i) # if it is even, append the number into the even number list\n",
    "\n",
    "print(even_numbers)"
   ]
  },
  {
   "cell_type": "markdown",
   "metadata": {},
   "source": [
    "## <u><b>WHILE</b> loops</u>\n",
    "\n",
    "A `while` loop executes a set of statements as long as a condition is true\n",
    "\n",
    "The syntax is: \n",
    "\n",
    "<pre>\n",
    "<font color = orange>while</font> condition:\n",
    "    <font color=orange>do something</font> </pre>\n",
    "\n",
    "For example: Print i as long as i is less than 6\n"
   ]
  },
  {
   "cell_type": "code",
   "execution_count": 20,
   "metadata": {},
   "outputs": [
    {
     "name": "stdout",
     "output_type": "stream",
     "text": [
      "1\n",
      "2\n",
      "3\n",
      "4\n",
      "5\n"
     ]
    }
   ],
   "source": [
    "i = 1 # initialisation of variable i\n",
    "\n",
    "while i < 6: # check if the value i is less than 6\n",
    "    print(i)\n",
    "\n",
    "    i = i + 1 # IMPORTANT: to always increment to counter so that the loop does not run forever"
   ]
  },
  {
   "cell_type": "markdown",
   "metadata": {},
   "source": [
    "Similar to a `for` loop, the body comprising the task(s) to be performed at every iteration has to be indented.\n",
    "\n",
    "We need to be especially careful when using a `while` loop. There must be a point in time where the condition has to evaluate to False, otherwise we will end up in an infinite loop!\n",
    "\n",
    "To illustrate what happens in each iteration in the code above:\n",
    "\n",
    "<table style=\"width:30%\">\n",
    "    <tr>\n",
    "        <th>Iteration</th>\n",
    "        <th>i</th>\n",
    "        <th>i < 6</th>\n",
    "        <th>Execute</th>\n",
    "    </tr>\n",
    "    <tr>\n",
    "        <td>1</td>\n",
    "        <td>0</td>\n",
    "        <td>True</td>\n",
    "        <td>print(0)<br>i+=1</td>\n",
    "    </tr>\n",
    "    <tr>\n",
    "        <td>2</td>\n",
    "        <td>1</td>\n",
    "        <td>True</td>\n",
    "        <td>print(1)<br>i+=1</td>\n",
    "    </tr>\n",
    "    <tr>\n",
    "        <td>3</td>\n",
    "        <td>2</td>\n",
    "        <td>True</td>\n",
    "        <td>print(2)<br>i+=1</td>\n",
    "    </tr>\n",
    "    <tr>\n",
    "        <td>4</td>\n",
    "        <td>3</td>\n",
    "        <td>True</td>\n",
    "        <td>print(3)<br>i+=1</td>\n",
    "    </tr>\n",
    "    <tr>\n",
    "        <td>5</td>\n",
    "        <td>4</td>\n",
    "        <td>True</td>\n",
    "        <td>print(4)<br>i+=1</td>\n",
    "    </tr>\n",
    "    <tr>\n",
    "        <td>6</td>\n",
    "        <td>5</td>\n",
    "        <td>True</td>\n",
    "        <td>print(5)<br>i+=1</td>\n",
    "    </tr>\n",
    "    <tr>\n",
    "        <td>7</td>\n",
    "        <td>6</td>\n",
    "        <td>False</td>\n",
    "        <td>Exit Loop</td>\n",
    "    </tr>\n",
    "</table>\n",
    "\n",
    "<br/>\n",
    "<br/>\n",
    "<br/>\n",
    "\n",
    "\n",
    "<b><u>Exercise 3:</u></b> Write a while loop that asks the user for a number until the total sum of all the numbers is more than 20"
   ]
  },
  {
   "cell_type": "code",
   "execution_count": null,
   "metadata": {},
   "outputs": [],
   "source": [
    "total_sum = 0\n",
    "\n",
    "while (condition): # replace condition\n",
    "\n",
    "    # do something"
   ]
  },
  {
   "cell_type": "markdown",
   "metadata": {},
   "source": [
    "<b><u>Exercise 4:</u></b> Write a while loop that prints out all even numbers from 0 to 10"
   ]
  },
  {
   "cell_type": "code",
   "execution_count": 22,
   "metadata": {},
   "outputs": [],
   "source": [
    "# intialise a counter\n",
    "\n",
    "# create the loop with condition\n",
    "\n",
    "# do something in the loop"
   ]
  },
  {
   "cell_type": "markdown",
   "metadata": {},
   "source": [
    "### <u>Break and Continue statements</u>\n",
    "\n",
    "With the `break` statement, we can stop the loop even if the while condition is `True`:\n",
    "\n",
    "Example: Exit the loop when <i>i</i> is 3:"
   ]
  },
  {
   "cell_type": "code",
   "execution_count": 23,
   "metadata": {},
   "outputs": [
    {
     "name": "stdout",
     "output_type": "stream",
     "text": [
      "0\n",
      "1\n",
      "2\n",
      "3\n"
     ]
    }
   ],
   "source": [
    "i = 0\n",
    "\n",
    "while i < 6:  # loop with conditional\n",
    "    print(i)  # code to execute in each loop\n",
    "    if ( i == 3 ): # conditional to check if i is 3\n",
    "        break # break out of the loop if i is 3 ( exiting the loop )\n",
    "\n",
    "    i += 1 # incrementing the counter i by 1 each time it passes the loop"
   ]
  },
  {
   "cell_type": "markdown",
   "metadata": {},
   "source": [
    "With the `continue` statement, we can stop the current iteration, and continue with the next:\n",
    "\n",
    "Example: Continue to the next iteration if <i>i</i> is 3:"
   ]
  },
  {
   "cell_type": "code",
   "execution_count": 2,
   "metadata": {},
   "outputs": [
    {
     "name": "stdout",
     "output_type": "stream",
     "text": [
      "1\n",
      "2\n",
      "4\n",
      "5\n",
      "6\n"
     ]
    }
   ],
   "source": [
    "i = 0\n",
    "\n",
    "while i < 6: \n",
    "    i += 1 # increment counter i\n",
    "    if ( i == 3 ): # if the incremented i value is 3, do not print the value\n",
    "        continue # skip to the next iteration\n",
    "\n",
    "    print(i) # print value of i if value is not equals to 3\n",
    "    "
   ]
  },
  {
   "cell_type": "markdown",
   "metadata": {},
   "source": [
    "#### <u>Nested Loops</u>\n",
    "\n",
    "A nested loop is a loop inside a loop\n",
    "\n",
    "The \"inner loop\" will be executed one time for each iteration of the \"outer loop\"\n",
    "\n",
    "Example: Printing each character of a food for every food in a list"
   ]
  },
  {
   "cell_type": "code",
   "execution_count": 4,
   "metadata": {},
   "outputs": [
    {
     "name": "stdout",
     "output_type": "stream",
     "text": [
      "b\n",
      "u\n",
      "n\n",
      "\n",
      "e\n",
      "g\n",
      "g\n",
      "\n",
      "c\n",
      "a\n",
      "k\n",
      "e\n",
      "\n"
     ]
    }
   ],
   "source": [
    "food_basket = [\"bun\", \"egg\", \"cake\"]\n",
    "\n",
    "for food in food_basket:  # iterate through EACH food in the basket ( also known as the OUTER loop )\n",
    "    for character in food: # iterate through EACH letter of the food ( also known as the INNER loop )\n",
    "        print(character) # printing out the letter\n",
    "    print()  # print out a new line to make code readable"
   ]
  }
 ],
 "metadata": {
  "kernelspec": {
   "display_name": "Python 3",
   "language": "python",
   "name": "python3"
  },
  "language_info": {
   "codemirror_mode": {
    "name": "ipython",
    "version": 3
   },
   "file_extension": ".py",
   "mimetype": "text/x-python",
   "name": "python",
   "nbconvert_exporter": "python",
   "pygments_lexer": "ipython3",
   "version": "3.11.4"
  }
 },
 "nbformat": 4,
 "nbformat_minor": 2
}
