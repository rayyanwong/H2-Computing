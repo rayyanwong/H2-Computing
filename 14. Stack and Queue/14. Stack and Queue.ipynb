{
 "cells": [
  {
   "cell_type": "markdown",
   "metadata": {},
   "source": [
    "# 14. Stack and Queue\n"
   ]
  },
  {
   "cell_type": "markdown",
   "metadata": {},
   "source": [
    "#### <u>Stack</u>\n",
    "\n",
    "A <b>stack</b> is a linear data structure which follows the <b>Last In First Out</b> principle. \n",
    "\n",
    "It behaves like a stack of files, where the last file added is the first to be removed.\n",
    "\n",
    "The following diagram is a visual representation of how a stack works\n",
    "\n",
    "![stack_diagram](stack_diagram.png)\n",
    "\n",
    "- Pushing an element into the stack: Adding a new file on the top\n",
    "- Popping an element from the stack: Removing the top file from the stack\n",
    "\n",
    "Here are some key methods of a stack data structure:\n",
    "<table>\n",
    "    <tr><th>Method</th><th>Description</th></tr>\n",
    "    <tr><td>Push</td><td>Adds an element to the top of the stack</td></tr>\n",
    "    <tr><td>Pop</td><td>Removes the top element from the stack</td></tr>\n",
    "    <tr><td>Peek</td><td>Returns the top element of the stack without removing it</td></tr>\n",
    "    <tr><td>IsEmpty</td><td>Checks if the stack is empty</td></tr>\n",
    "    <tr><td>IsFull</td><td>Checks if the stack is full (in case of fixed-size arrays)</td></tr>\n",
    "</table>\n",
    "    \n",
    "Let's create a `stack` class, and define the required properties and methods required for a stack!"
   ]
  },
  {
   "cell_type": "code",
   "execution_count": 4,
   "metadata": {},
   "outputs": [],
   "source": [
    "class Stack():\n",
    "    def __init__(self):\n",
    "        self.stack = []\n",
    "    \n",
    "    def is_empty(self):\n",
    "        if len(self.stack)== 0:\n",
    "            return True\n",
    "        else:\n",
    "            return False\n",
    "    \n",
    "    def size(self):\n",
    "        return len(self.stack)\n",
    "    \n",
    "    def push(self, item):\n",
    "        self.stack.append(item)\n",
    "        return\n",
    "    \n",
    "    def peek(self):\n",
    "        if self.is_empty():\n",
    "            return None\n",
    "        else:\n",
    "            return self.stack[-1]\n",
    "    \n",
    "    def pop(self):\n",
    "        if self.is_empty():\n",
    "            return None\n",
    "        else:\n",
    "            x = self.stack[-1]\n",
    "            self.stack = self.stack[:-1]\n",
    "            return x"
   ]
  },
  {
   "cell_type": "code",
   "execution_count": 6,
   "metadata": {},
   "outputs": [
    {
     "name": "stdout",
     "output_type": "stream",
     "text": [
      "Science\n",
      "False\n",
      "Science\n",
      "Math\n",
      "None\n",
      "0\n",
      "True\n"
     ]
    }
   ],
   "source": [
    "my_stack = Stack()\n",
    "\n",
    "my_stack.push(\"Math\")  # [\"Math\"]\n",
    "my_stack.push(\"Science\") # [\"Math\", \"Science\"]\n",
    "\n",
    "print(my_stack.peek()) # returns \"Science\"\n",
    "\n",
    "print(my_stack.is_empty()) # returns False\n",
    "\n",
    "print(my_stack.pop()) # returns \"Science\" and removes science -> [\"Math\"]\n",
    "print(my_stack.pop()) # reutrns \"Math\" and removes math -> []\n",
    "print(my_stack.pop()) # returns None since it is empty\n",
    "print(my_stack.size()) # returns 0 \n",
    "\n",
    "print(my_stack.is_empty()) # returns true\n"
   ]
  },
  {
   "cell_type": "markdown",
   "metadata": {},
   "source": [
    "<u>Common applications of a stack</u>\n",
    "\n",
    "- Recursion\n",
    "- Expression Evaluation and Parsing\n",
    "- Depth-First Search (DFS)\n",
    "- Undo/Redo Operations\n",
    "- Browser History\n",
    "- Function Calls\n"
   ]
  },
  {
   "cell_type": "markdown",
   "metadata": {},
   "source": [
    "#### <u>Queue</u>\n",
    "\n",
    "A <b>queue</b> is a linear data structure that follows the <b>First In First Out</b> principle. It operates like a line where the elements are added at the end and elements are removed from the front. ( Just like a queue )\n",
    "\n",
    "The following diagram is a visual representation of how a queue works.\n",
    "\n",
    "![queue_diagram](queue_diagram.png)\n",
    "\n",
    "<br/>\n",
    "\n",
    "Here are some key methods of a queue data structure:\n",
    "<table>\n",
    "    <tr><th>Method</th><th>Description</th></tr>\n",
    "    <tr><td>Enqueue</td><td>Adds an element to the end of the queue</td></tr>\n",
    "    <tr><td>Dequeue</td><td>Removes the first element from the qeuue</td></tr>\n",
    "    <tr><td>Show Head</td><td>Returns the first element of the queue without removing it</td></tr>\n",
    "    <tr><td>Show Tail</td><td>Returns the last element of the queue without removing it</td></tr>\n",
    "    <tr><td>IsEmpty</td><td>Checks if the queue is empty</td></tr>\n",
    "    <tr><td>IsFull</td><td>Checks if the queue is full (in case of fixed-size arrays)</td></tr>\n",
    "    <tr><td>Size</td><td>Returns the size of the queue</td></tr>\n",
    "</table>\n",
    "    \n",
    "Let's create a `queue` class, and define the required properties and methods for a queue!"
   ]
  },
  {
   "cell_type": "code",
   "execution_count": 7,
   "metadata": {},
   "outputs": [],
   "source": [
    "class Queue():\n",
    "    def __init__(self):\n",
    "        self.queue = []\n",
    "    \n",
    "    def size(self):\n",
    "        return len(self.queue)\n",
    "    \n",
    "    def is_empty(self):\n",
    "        if len(self.queue) == 0:\n",
    "            return True\n",
    "        else:\n",
    "            return False\n",
    "    \n",
    "    def enqueue(self, item):\n",
    "        self.queue.append(item)\n",
    "    \n",
    "    def dequeue(self):\n",
    "        if self.is_empty():\n",
    "            return None\n",
    "        else:\n",
    "            x = self.queue[0]\n",
    "            self.queue = self.queue[1:]\n",
    "            return x\n",
    "    \n",
    "    def show_head(self):\n",
    "        if self.is_empty():\n",
    "            return None\n",
    "        else:\n",
    "            return self.queue[0]\n",
    "    \n",
    "    def show_tail(self):\n",
    "        if self.is_empty():\n",
    "            return None\n",
    "        else:\n",
    "            return self.queue[-1]"
   ]
  },
  {
   "cell_type": "code",
   "execution_count": 9,
   "metadata": {},
   "outputs": [
    {
     "name": "stdout",
     "output_type": "stream",
     "text": [
      "Math\n",
      "Science\n",
      "2\n",
      "False\n",
      "Math\n",
      "Science\n",
      "Empty Queue\n",
      "None\n",
      "0\n"
     ]
    }
   ],
   "source": [
    "my_queue = Queue()\n",
    "\n",
    "my_queue.enqueue(\"Math\") # [\"Math\"]\n",
    "my_queue.enqueue(\"Science\") # [\"Math\", \"Science\"]\n",
    "\n",
    "print(my_queue.show_head()) # returns \"Math\"\n",
    "print(my_queue.show_tail()) # returns \"Science\"\n",
    "\n",
    "print(my_queue.size()) # returns 2\n",
    "print(my_queue.is_empty()) # returns False\n",
    "\n",
    "print(my_queue.dequeue()) # returns \"Math\" and removes Math from queue\n",
    "print(my_queue.dequeue()) # returns \"Science\" and removes Science from queue\n",
    "print(my_queue.dequeue()) # returns \"None\" since queue is empty\n",
    "\n",
    "print(my_queue.size()) # returns 0"
   ]
  },
  {
   "cell_type": "markdown",
   "metadata": {},
   "source": [
    "<u>Common applications of a queue</u>\n",
    "\n",
    "- Task scheduling in operating systems\n",
    "- Data transfer in a network operation\n",
    "- Simulation of real-world systems like waiting lines\n",
    "- Priority queues"
   ]
  }
 ],
 "metadata": {
  "kernelspec": {
   "display_name": "Python 3",
   "language": "python",
   "name": "python3"
  },
  "language_info": {
   "codemirror_mode": {
    "name": "ipython",
    "version": 3
   },
   "file_extension": ".py",
   "mimetype": "text/x-python",
   "name": "python",
   "nbconvert_exporter": "python",
   "pygments_lexer": "ipython3",
   "version": "3.11.4"
  }
 },
 "nbformat": 4,
 "nbformat_minor": 2
}
