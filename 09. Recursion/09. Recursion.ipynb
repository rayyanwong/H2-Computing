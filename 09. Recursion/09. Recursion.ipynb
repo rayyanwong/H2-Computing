{
 "cells": [
  {
   "cell_type": "markdown",
   "metadata": {},
   "source": [
    "# 09. Recursion"
   ]
  },
  {
   "cell_type": "markdown",
   "metadata": {},
   "source": [
    "<b>Recursion</b> is a method of breaking down a problem into smaller sub-problems until the sub-problem is so small that it can be easily solved. It involves a function calling upon itself.\n",
    "\n",
    "<b>ALL</b> recursive function must have 2 components:\n",
    "\n",
    "- A base case, in which the function does <i>not</i> call itself\n",
    "- A <i>recursive</i> case, in which the function changes its state and moves towards the <i>base</i> case - breaking down the problem into small versions\n",
    "\n",
    "The following snippet shows how a recursive function is usually constructed."
   ]
  },
  {
   "cell_type": "code",
   "execution_count": null,
   "metadata": {},
   "outputs": [],
   "source": [
    "def recursive_function(n):\n",
    "\n",
    "    # base case\n",
    "    # function no longer calls itself and returns a value\n",
    "    if <condition>:\n",
    "        return 0\n",
    "    \n",
    "    # does not hit the base case and instead, tries to break the problem down into smaller versions\n",
    "    \n",
    "    else: \n",
    "        return recursive_function(n-1) # <-- n-1 refers to a change in state, making the problem smaller"
   ]
  },
  {
   "cell_type": "markdown",
   "metadata": {},
   "source": [
    "Let's try an example, we will write a function called `sum_nums` that takes a number as argument and sums the numbers from 1,2,3...,n\n",
    "\n",
    "- sum_nums(5) = 5 + 4 + 3 + 2 + 1 = 15\n",
    "\n",
    "The first example will show how it is done using a `while` loop\n",
    "\n",
    "The second example will show how it is done recursively"
   ]
  },
  {
   "cell_type": "code",
   "execution_count": 5,
   "metadata": {},
   "outputs": [
    {
     "name": "stdout",
     "output_type": "stream",
     "text": [
      "15\n",
      "1275\n"
     ]
    }
   ],
   "source": [
    "# example 1 - using while loop\n",
    "\n",
    "def sum_nums_using_while(n):\n",
    "    ans = 0\n",
    "    while n != 0:\n",
    "        ans += n\n",
    "        n -= 1\n",
    "    return ans\n",
    "\n",
    "print(sum_nums_using_while(5))\n",
    "print(sum_nums_using_while(50))"
   ]
  },
  {
   "cell_type": "code",
   "execution_count": 8,
   "metadata": {},
   "outputs": [
    {
     "name": "stdout",
     "output_type": "stream",
     "text": [
      "15\n",
      "1275\n"
     ]
    }
   ],
   "source": [
    "# example 2 - using recursion\n",
    "\n",
    "def sum_nums_using_recursion(n):\n",
    "\n",
    "    # base case where once it hits 1, we return 1 and no longer continue calling itself\n",
    "    if n == 1: return 1\n",
    "\n",
    "    # breaking down the problem into smaller pieces, \n",
    "\n",
    "    # to get the total sum, we are trying to get n + (sum of numbers from 1 to (n-1)) \n",
    "    # hence, we can break it down to, n + sum_nums_using_recursion(n-1)\n",
    "    return n + sum_nums_using_recursion(n-1)\n",
    "\n",
    "print(sum_nums_using_recursion(5))\n",
    "print(sum_nums_using_recursion(50))"
   ]
  },
  {
   "cell_type": "markdown",
   "metadata": {},
   "source": [
    "#### <u>Steps for recursion</u>\n",
    "\n",
    "Step 1: Define a base case: Identify the simplest case for which the solution is known or trivial. This is the <i>stopping</i> condition for the recursion.\n",
    "\n",
    "Step 2: Define a recursive case: Define the problem in terms of smaller subproblems. Break the problem down into <i>smaller</i> versions of itself, and call itself recursively to solve each subproblem\n",
    "\n",
    "Step 3: Ensure that the recursion terminates: Make sure that it eventually reaches the base case, and does not enter an <i>infinite loop</i>.\n",
    "\n",
    "Step 4: Combine the solution to form a recursive function\n",
    "\n",
    "\n",
    "<br/>\n",
    "<br/>\n",
    "<b><u>Exercise 1:</u> Create a recursive function that takes in an integer \"n\" and prints \"Hello world!\" n times</b>"
   ]
  },
  {
   "cell_type": "markdown",
   "metadata": {},
   "source": []
  },
  {
   "cell_type": "markdown",
   "metadata": {},
   "source": [
    "#### <u>Example: Factorial problem</u>\n",
    "\n",
    "One classic example of recursion is the factorial function.\n",
    "\n",
    "A factorial is represented by `n!`, which has the definition:\n",
    "\n",
    "`n! = 1 * 2 * 3 * 4 * ..... * ( n - 2 ) * ( n - 1 ) * n`\n",
    "\n",
    "<br/>\n",
    "\n",
    "You can easily implement this solution using recursion!"
   ]
  },
  {
   "cell_type": "code",
   "execution_count": 11,
   "metadata": {},
   "outputs": [
    {
     "name": "stdout",
     "output_type": "stream",
     "text": [
      "24\n"
     ]
    }
   ],
   "source": [
    "def fact(n):\n",
    "\n",
    "    # your base case\n",
    "    if ( n == 1 ): return 1\n",
    "\n",
    "    # your recursive case - when n is NOT 1\n",
    "    return n * fact( n - 1 )\n",
    "\n",
    "print(fact(4))"
   ]
  },
  {
   "cell_type": "markdown",
   "metadata": {},
   "source": [
    "Here is a visual representation of how a trace diagram would look for the snippet above!\n",
    "\n",
    "![recursion_1](recursion_1.png)"
   ]
  },
  {
   "cell_type": "markdown",
   "metadata": {},
   "source": [
    "#### <u>Example: Fibonacci Series</u>\n",
    "\n",
    "\n",
    "The Fiboacci series is also a classic example of recursion.\n",
    "\n",
    "It a sequence which each number is equal to the sum of the preciding two numbers.\n",
    "\n",
    "`0 1 1 2 3 5 8 13...`\n",
    "\n",
    "Lets take `fib(n)` as the function that returns the nth number of the fib series. \n",
    "\n",
    "<pre>\n",
    "fib(0) = 0     # base case<br/> \n",
    "fib(1) = 1     # base case<br/> \n",
    "fib(2) = fib(1) + fib(0) = 1 <br/>\n",
    "fib(3) = fib(2) + fib(1) = fib(1) + fib(1) + fib(0) = 1 + 1 = 2 <br/>\n",
    "fib(4) = fib(3) + fib(2) = 2 * fib(1) + fib(1) = 2 * 1 + 1 = 3 <br/>\n",
    "...\n",
    "</pre>\n",
    "\n",
    "Can you see the pattern of recursion in this funtion? <br/>\n",
    "\n",
    "<b><u>Exercise 2:</u> Try implementing the fib(n) function yourself!</b>"
   ]
  },
  {
   "cell_type": "code",
   "execution_count": 12,
   "metadata": {},
   "outputs": [
    {
     "name": "stdout",
     "output_type": "stream",
     "text": [
      "3\n"
     ]
    }
   ],
   "source": [
    "def fib(n):\n",
    "\n",
    "    if (n == 0 or n == 1): return n\n",
    "\n",
    "    return fib(n-1) + fib(n-2)\n",
    "\n",
    "print(fib(4))"
   ]
  },
  {
   "cell_type": "markdown",
   "metadata": {},
   "source": [
    "#### <u>Recursion with a list</u>\n",
    "\n",
    "Let's create a function `lst_product(arr)` that finds the product of all the numbers in a list!\n"
   ]
  },
  {
   "cell_type": "code",
   "execution_count": 14,
   "metadata": {},
   "outputs": [
    {
     "name": "stdout",
     "output_type": "stream",
     "text": [
      "90\n"
     ]
    }
   ],
   "source": [
    "def lst_product(arr):\n",
    "\n",
    "    # defining the base case\n",
    "    if (len(arr) == 0): return 1 # <-- Do you know why we return 1?\n",
    "\n",
    "    return arr[0] * lst_product(arr[1:])\n",
    "\n",
    "my_numbers = [9,5,1,2]\n",
    "\n",
    "print(lst_product(my_numbers))"
   ]
  }
 ],
 "metadata": {
  "kernelspec": {
   "display_name": "Python 3",
   "language": "python",
   "name": "python3"
  },
  "language_info": {
   "codemirror_mode": {
    "name": "ipython",
    "version": 3
   },
   "file_extension": ".py",
   "mimetype": "text/x-python",
   "name": "python",
   "nbconvert_exporter": "python",
   "pygments_lexer": "ipython3",
   "version": "3.11.4"
  }
 },
 "nbformat": 4,
 "nbformat_minor": 2
}
