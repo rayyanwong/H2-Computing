{
 "cells": [
  {
   "cell_type": "markdown",
   "metadata": {},
   "source": [
    "# 03. Strings"
   ]
  },
  {
   "cell_type": "markdown",
   "metadata": {},
   "source": [
    "What are Strings?\n",
    "\n",
    "* Strings are in-built data type in python to represent a sequence of characters or text\n",
    "* Strings are surrounded by either single quotation marks `'`, or double quotation marks `\"`\n",
    "* Strings are also 0-indexed. First character has an index of 0, last character has an index of [length of string] - 1\n",
    "\n",
    "You can display a string using the `print()` function.\n"
   ]
  },
  {
   "cell_type": "code",
   "execution_count": 1,
   "metadata": {},
   "outputs": [
    {
     "name": "stdout",
     "output_type": "stream",
     "text": [
      "This is a string\n",
      "This is also a string\n"
     ]
    }
   ],
   "source": [
    "print(\"This is a string\")\n",
    "print('This is also a string')"
   ]
  },
  {
   "cell_type": "markdown",
   "metadata": {},
   "source": [
    "### <u>Index of strings</u>\n",
    "\n",
    "With `\"Hello\"` as a string, here is a table mapping index to its character\n",
    "\n",
    "| Index | Character |\n",
    "| --- | --- |\n",
    "| 0 | H |\n",
    "| 1 | e |\n",
    "| 2 | l | \n",
    "| 3 | l |\n",
    "| 4 | o |\n",
    "\n",
    "\n",
    "### <u>Negative indexing of strings</u>\n",
    "\n",
    "| Index | Character |\n",
    "| --- | --- |\n",
    "| -5 | H |\n",
    "| -4 | e |\n",
    "| -3 | l | \n",
    "| -2 | l |\n",
    "| -1 | o |\n"
   ]
  },
  {
   "cell_type": "markdown",
   "metadata": {},
   "source": [
    "### <u>Quotes inside strings</u>\n",
    "\n",
    "You can use quotes in strings, as long as they do not use the same quotation marks surrounding the string.\n",
    "\n",
    "<font color=green>Positive example</font>\n",
    "\n",
    "<pre>\"This string is 'legal'\"</pre>\n",
    "<pre>'This string is also \"legal\"'</pre>\n",
    "\n",
    "<font color=red>Negative example</font>\n",
    "\n",
    "<pre>\"This string is \"illegal\"\"</pre>\n",
    "<pre>'This string is also 'illegal''</pre>"
   ]
  },
  {
   "cell_type": "code",
   "execution_count": null,
   "metadata": {},
   "outputs": [],
   "source": [
    "\"This string is 'legal'\"\n",
    "'This string is \"legal\"'\n",
    "\n",
    "\"This string is \"illegal\"\"\n",
    "'This string is also 'illegal''"
   ]
  },
  {
   "cell_type": "markdown",
   "metadata": {},
   "source": [
    "### <u>Multiline strings</u>\n",
    "\n",
    "You can assign a multiline string to a variable by using three quotes"
   ]
  },
  {
   "cell_type": "code",
   "execution_count": 6,
   "metadata": {},
   "outputs": [
    {
     "name": "stdout",
     "output_type": "stream",
     "text": [
      "Hello world,\n",
      "This is a multiline string\n",
      "created using three double quotes\n",
      "surrounding the string\n",
      "\n",
      "Hello world,\n",
      "This is also a multiline string\n",
      "created using three single quotes\n",
      "surrounding the string\n"
     ]
    }
   ],
   "source": [
    "my_string = \"\"\"Hello world,\n",
    "This is a multiline string\n",
    "created using three double quotes\n",
    "surrounding the string\n",
    "\"\"\"\n",
    "\n",
    "print(my_string)\n",
    "\n",
    "\n",
    "my_string_2 = '''Hello world,\n",
    "This is also a multiline string\n",
    "created using three single quotes\n",
    "surrounding the string'''\n",
    "\n",
    "print(my_string_2)"
   ]
  },
  {
   "cell_type": "markdown",
   "metadata": {},
   "source": [
    "### <u>String Concatenation</u>\n",
    "\n",
    "To concatenate, or combine, two strings, you can use the `+` operator\n",
    "\n",
    "<font color=red>Note: You can <b>ONLY</b> concat two variables together if they are strings!</font>"
   ]
  },
  {
   "cell_type": "code",
   "execution_count": 7,
   "metadata": {},
   "outputs": [
    {
     "name": "stdout",
     "output_type": "stream",
     "text": [
      "This is my first stringThis is my second string\n"
     ]
    }
   ],
   "source": [
    "a = 'This is my first string'\n",
    "b = \"This is my second string\"\n",
    "\n",
    "print(a+b)"
   ]
  },
  {
   "cell_type": "code",
   "execution_count": 9,
   "metadata": {},
   "outputs": [
    {
     "name": "stdout",
     "output_type": "stream",
     "text": [
      "Hello World\n"
     ]
    }
   ],
   "source": [
    "x = \"Hello\"\n",
    "y = \"World\"\n",
    "\n",
    "print( x + \" \" + y) # <--- You can add a space by concatenating \" \" between the two strings"
   ]
  },
  {
   "cell_type": "code",
   "execution_count": 12,
   "metadata": {},
   "outputs": [
    {
     "ename": "TypeError",
     "evalue": "unsupported operand type(s) for +: 'int' and 'str'",
     "output_type": "error",
     "traceback": [
      "\u001b[1;31m---------------------------------------------------------------------------\u001b[0m",
      "\u001b[1;31mTypeError\u001b[0m                                 Traceback (most recent call last)",
      "Cell \u001b[1;32mIn[12], line 6\u001b[0m\n\u001b[0;32m      3\u001b[0m c \u001b[38;5;241m=\u001b[39m \u001b[38;5;241m1\u001b[39m\n\u001b[0;32m      4\u001b[0m d \u001b[38;5;241m=\u001b[39m \u001b[38;5;124m\"\u001b[39m\u001b[38;5;124mone\u001b[39m\u001b[38;5;124m\"\u001b[39m\n\u001b[1;32m----> 6\u001b[0m \u001b[38;5;28mprint\u001b[39m(\u001b[43mc\u001b[49m\u001b[43m \u001b[49m\u001b[38;5;241;43m+\u001b[39;49m\u001b[43m \u001b[49m\u001b[43md\u001b[49m)\n",
      "\u001b[1;31mTypeError\u001b[0m: unsupported operand type(s) for +: 'int' and 'str'"
     ]
    }
   ],
   "source": [
    "# NEGATIVE EXAMPLE\n",
    "\n",
    "c = 1\n",
    "d = \"one\"\n",
    "\n",
    "print(c + d)"
   ]
  },
  {
   "cell_type": "markdown",
   "metadata": {},
   "source": [
    "If you can recall <b>Typecasting</b> from <b><u>Chapter 1</u></b>, you can fix the issue in the code above! \n",
    "\n",
    "Can you think of how to do so?"
   ]
  },
  {
   "cell_type": "markdown",
   "metadata": {},
   "source": [
    "### <u>String slicing and indexing</u>"
   ]
  },
  {
   "cell_type": "markdown",
   "metadata": {},
   "source": [
    "<b>String slicing</b> allows us to extract specific portions of a string.\n",
    "\n",
    "The syntax is:\n",
    "\n",
    "<pre>\"your string\"[{start}:{stop}:{steps}]</pre>\n",
    "\n",
    "<font color=red>Note: The index at stop is NOT included</font>\n",
    "\n",
    "* You have to specify the start index and the end index, separated by a colon, to return a part of the string.\n",
    "\n",
    "Only start is <font color=orange>COMPULSORY</font> if there are no `:` <br>\n",
    "Both stop and steps are <font color=orange>OPTIONAL</font>\n",
    "\n",
    "Hence, you can also do\n",
    "\n",
    "<pre>\"Hello world\"[{start}]</pre>"
   ]
  },
  {
   "cell_type": "markdown",
   "metadata": {},
   "source": [
    "<b><u>Exercise 1: </u> Try it yourself!</b>"
   ]
  },
  {
   "cell_type": "code",
   "execution_count": 24,
   "metadata": {},
   "outputs": [
    {
     "name": "stdout",
     "output_type": "stream",
     "text": [
      "H\n",
      "Hello\n",
      "op\n",
      "Ilv \n"
     ]
    }
   ],
   "source": [
    "# Example 1\n",
    "\n",
    "print(\"Hello world\"[0])\n",
    "\n",
    "# Example 2\n",
    "\n",
    "print(\"Hello world\"[0:5])\n",
    "\n",
    "# Example 3\n",
    "\n",
    "x = \"I love programming\"\n",
    "print(x[3:9:4])\n",
    "\n",
    "# Example 4\n",
    "\n",
    "y = \"I love programming\"\n",
    "print(y[0:8:2])"
   ]
  },
  {
   "cell_type": "markdown",
   "metadata": {},
   "source": [
    "#### <u>Slice from the Start</u>\n",
    "\n",
    "By leaving out the start index, the range will start at the first character"
   ]
  },
  {
   "cell_type": "code",
   "execution_count": 21,
   "metadata": {},
   "outputs": [
    {
     "name": "stdout",
     "output_type": "stream",
     "text": [
      "Hello\n"
     ]
    }
   ],
   "source": [
    "a = \"Hello, World!\"\n",
    "print(a[:5]) # <--- notice how ',' is not included!"
   ]
  },
  {
   "cell_type": "markdown",
   "metadata": {},
   "source": [
    "#### <u>Slice to the End</u>\n",
    "\n",
    "By leaving out the end index, the range will go to the end"
   ]
  },
  {
   "cell_type": "code",
   "execution_count": 23,
   "metadata": {},
   "outputs": [
    {
     "name": "stdout",
     "output_type": "stream",
     "text": [
      ", World!\n"
     ]
    }
   ],
   "source": [
    "b = \"Hello, World!\"\n",
    "print(b[5:])"
   ]
  },
  {
   "cell_type": "markdown",
   "metadata": {},
   "source": [
    "#### <u>Negative indexing</u>\n",
    "\n",
    "Use negative indexes to start the slice from the end of the string"
   ]
  },
  {
   "cell_type": "code",
   "execution_count": 25,
   "metadata": {},
   "outputs": [
    {
     "name": "stdout",
     "output_type": "stream",
     "text": [
      "orl\n"
     ]
    }
   ],
   "source": [
    "c = \"Hello, World!\"\n",
    "print(c[-5:-2])"
   ]
  },
  {
   "cell_type": "markdown",
   "metadata": {},
   "source": [
    "#### <u>Negative steps</u>\n",
    "\n",
    "You can also use negative steps when slicing strings\n",
    "\n",
    "In the following example, I will make the string reversed!"
   ]
  },
  {
   "cell_type": "code",
   "execution_count": 27,
   "metadata": {},
   "outputs": [
    {
     "name": "stdout",
     "output_type": "stream",
     "text": [
      "gnirts a si sihT\n"
     ]
    }
   ],
   "source": [
    "my_string_3 = \"This is a string\"\n",
    "my_string_4 = my_string_3[::-1]\n",
    "print(my_string_4)\n",
    "\n",
    "# Try playing around with the start:stop:step values to see what it returns!"
   ]
  },
  {
   "cell_type": "markdown",
   "metadata": {},
   "source": [
    "#### <b>String methods</b>\n",
    "\n",
    "Python has a set of built-in methods that you can use on strings."
   ]
  },
  {
   "cell_type": "markdown",
   "metadata": {},
   "source": [
    "The `upper()` method returns the string in upper case"
   ]
  },
  {
   "cell_type": "code",
   "execution_count": 28,
   "metadata": {},
   "outputs": [
    {
     "name": "stdout",
     "output_type": "stream",
     "text": [
      "HELLO, WORLD!\n"
     ]
    }
   ],
   "source": [
    "a = \"Hello, World!\"\n",
    "print(a.upper())"
   ]
  },
  {
   "cell_type": "markdown",
   "metadata": {},
   "source": [
    "The `lower()` method returns the string in lower case"
   ]
  },
  {
   "cell_type": "code",
   "execution_count": 29,
   "metadata": {},
   "outputs": [
    {
     "name": "stdout",
     "output_type": "stream",
     "text": [
      "hello, world!\n"
     ]
    }
   ],
   "source": [
    "a = \"Hello, World!\"\n",
    "print(a.lower())"
   ]
  },
  {
   "cell_type": "markdown",
   "metadata": {},
   "source": [
    "The `len(string)` method returns the length of the given string"
   ]
  },
  {
   "cell_type": "code",
   "execution_count": 30,
   "metadata": {},
   "outputs": [
    {
     "name": "stdout",
     "output_type": "stream",
     "text": [
      "13\n"
     ]
    }
   ],
   "source": [
    "a = \"Hello, World!\"\n",
    "print(len(a))"
   ]
  },
  {
   "cell_type": "markdown",
   "metadata": {},
   "source": [
    "The `strip()` method removes any whitespace from the beginning or the end\n",
    "\n",
    "* Whitespace is the space before and/or after the actual text"
   ]
  },
  {
   "cell_type": "code",
   "execution_count": 31,
   "metadata": {},
   "outputs": [
    {
     "name": "stdout",
     "output_type": "stream",
     "text": [
      "Hello, World!\n"
     ]
    }
   ],
   "source": [
    "a = \" Hello, World! \"\n",
    "print(a.strip()) # returns \"Hello, World!\" "
   ]
  },
  {
   "cell_type": "markdown",
   "metadata": {},
   "source": [
    "The `replace()` method replaces a string with another string"
   ]
  },
  {
   "cell_type": "code",
   "execution_count": 32,
   "metadata": {},
   "outputs": [
    {
     "name": "stdout",
     "output_type": "stream",
     "text": [
      "Jello, World!\n"
     ]
    }
   ],
   "source": [
    "a = \"Hello, World!\"\n",
    "print(a.replace(\"H\", \"J\"))"
   ]
  },
  {
   "cell_type": "markdown",
   "metadata": {},
   "source": [
    "The `split()` method returns a list where the text between the specified separator becomes the list items."
   ]
  },
  {
   "cell_type": "code",
   "execution_count": 33,
   "metadata": {},
   "outputs": [
    {
     "name": "stdout",
     "output_type": "stream",
     "text": [
      "['Hello', ' World!']\n"
     ]
    }
   ],
   "source": [
    "a = \"Hello, World!\"\n",
    "print(a.split(\",\")) # returns ['Hello', ' World!'] "
   ]
  },
  {
   "cell_type": "markdown",
   "metadata": {},
   "source": [
    "The `isalpha()` method returns whether the string is only made up of alphabetical characters only"
   ]
  },
  {
   "cell_type": "code",
   "execution_count": 38,
   "metadata": {},
   "outputs": [
    {
     "name": "stdout",
     "output_type": "stream",
     "text": [
      "True\n"
     ]
    }
   ],
   "source": [
    "my_string = \"HelloWorld\"\n",
    "print(my_string.isalpha()) "
   ]
  },
  {
   "cell_type": "markdown",
   "metadata": {},
   "source": [
    "The `isdigit()` method returns whether the string is only made up of digits only"
   ]
  },
  {
   "cell_type": "code",
   "execution_count": 39,
   "metadata": {},
   "outputs": [
    {
     "name": "stdout",
     "output_type": "stream",
     "text": [
      "False\n",
      "True\n"
     ]
    }
   ],
   "source": [
    "print(\"Hello world\".isdigit())\n",
    "print(\"12331\".isdigit())"
   ]
  },
  {
   "cell_type": "markdown",
   "metadata": {},
   "source": [
    "The `isalnum()` method returns whether the string is made of alphanumeric characters only"
   ]
  },
  {
   "cell_type": "code",
   "execution_count": 42,
   "metadata": {},
   "outputs": [
    {
     "name": "stdout",
     "output_type": "stream",
     "text": [
      "False\n",
      "False\n",
      "True\n"
     ]
    }
   ],
   "source": [
    "print(\"Hello world\".isalnum())\n",
    "print(\"H3ll0, W0r1D\".isalnum())\n",
    "print(\"H3ll0W0r1D\".isalnum())"
   ]
  },
  {
   "cell_type": "markdown",
   "metadata": {},
   "source": [
    "The `index()` method returns the first index where the given substring can be found in the string or gives a ValueError if it does not appear in the string"
   ]
  },
  {
   "cell_type": "code",
   "execution_count": 44,
   "metadata": {},
   "outputs": [
    {
     "name": "stdout",
     "output_type": "stream",
     "text": [
      "2\n",
      "6\n"
     ]
    },
    {
     "ename": "ValueError",
     "evalue": "substring not found",
     "output_type": "error",
     "traceback": [
      "\u001b[1;31m---------------------------------------------------------------------------\u001b[0m",
      "\u001b[1;31mValueError\u001b[0m                                Traceback (most recent call last)",
      "Cell \u001b[1;32mIn[44], line 4\u001b[0m\n\u001b[0;32m      2\u001b[0m \u001b[38;5;28mprint\u001b[39m(my_string\u001b[38;5;241m.\u001b[39mindex(\u001b[38;5;124m\"\u001b[39m\u001b[38;5;124ml\u001b[39m\u001b[38;5;124m\"\u001b[39m))\n\u001b[0;32m      3\u001b[0m \u001b[38;5;28mprint\u001b[39m(my_string\u001b[38;5;241m.\u001b[39mindex(\u001b[38;5;124m\"\u001b[39m\u001b[38;5;124mworld\u001b[39m\u001b[38;5;124m\"\u001b[39m))\n\u001b[1;32m----> 4\u001b[0m \u001b[38;5;28mprint\u001b[39m(\u001b[43mmy_string\u001b[49m\u001b[38;5;241;43m.\u001b[39;49m\u001b[43mindex\u001b[49m\u001b[43m(\u001b[49m\u001b[38;5;124;43m\"\u001b[39;49m\u001b[38;5;124;43mP\u001b[39;49m\u001b[38;5;124;43m\"\u001b[39;49m\u001b[43m)\u001b[49m)\n",
      "\u001b[1;31mValueError\u001b[0m: substring not found"
     ]
    }
   ],
   "source": [
    "my_string = \"Hello world\"\n",
    "print(my_string.index(\"l\"))\n",
    "print(my_string.index(\"world\"))\n",
    "print(my_string.index(\"P\"))"
   ]
  },
  {
   "cell_type": "markdown",
   "metadata": {},
   "source": [
    "#### <u>String Formatting</u>\n",
    "\n",
    "There are two ways to format strings in Python\n",
    "* Using the `format()` method\n",
    "* Using F-strings"
   ]
  },
  {
   "cell_type": "markdown",
   "metadata": {},
   "source": [
    "#### <u>1. Using the format method</u>\n",
    "\n",
    "The syntax is as follows\n",
    "<pre>\"String {} ...\".format(\"string to insert\",...)</pre>\n",
    "\n",
    "<u>How does it work?</u>\n",
    "\n",
    "The string in the format brackets will replace the {} in the string it is used on."
   ]
  },
  {
   "cell_type": "code",
   "execution_count": 50,
   "metadata": {},
   "outputs": [
    {
     "name": "stdout",
     "output_type": "stream",
     "text": [
      "How are you?\n",
      "How are you, Bob\n",
      "The sum of 1 + 1 is 2\n"
     ]
    }
   ],
   "source": [
    "str1 = \"How {} you?\".format(\"are\")\n",
    "print(str1)\n",
    "\n",
    "str2 = \"How {} you, {}\".format(\"are\",\"Bob\")\n",
    "print(str2)\n",
    "\n",
    "str3 = \"The sum of 1 + 1 is {}\".format(1+1)\n",
    "print(str3)"
   ]
  },
  {
   "cell_type": "markdown",
   "metadata": {},
   "source": [
    "You can also manually order the placement of the strings by indicating a number within the `{}`"
   ]
  },
  {
   "cell_type": "code",
   "execution_count": 53,
   "metadata": {},
   "outputs": [
    {
     "name": "stdout",
     "output_type": "stream",
     "text": [
      "Hello Thomas My name is Tim\n"
     ]
    }
   ],
   "source": [
    "str4 = \"Hello {1} My name is {0}\".format(\"Tim\", \"Thomas\")\n",
    "print(str4)"
   ]
  },
  {
   "cell_type": "markdown",
   "metadata": {},
   "source": [
    "#### <u>2. Using F-Strings</u>\n",
    "\n",
    "The syntax is as follows\n",
    "\n",
    "<pre>to_insert = \"World\"</pre>\n",
    "<pre>my_string = f\"Hello {to_insert}\"</pre>\n",
    "\n",
    "`to_insert` is a variable which can contain values that are not just strings!"
   ]
  },
  {
   "cell_type": "code",
   "execution_count": 60,
   "metadata": {},
   "outputs": [
    {
     "name": "stdout",
     "output_type": "stream",
     "text": [
      "Hello World\n",
      "1 + 1 is 2\n",
      "The list is: [1, 2, 3, 4]\n",
      "The boolean answer is: False\n"
     ]
    }
   ],
   "source": [
    "to_insert = \"World\"\n",
    "my_new_string = f\"Hello {to_insert}\"\n",
    "\n",
    "my_new_string_2 = f\"1 + 1 is {1+1}\" # <--- You can insert an integer / float AND perform math operations within the brackets\n",
    "\n",
    "my_new_string_3 = f\"The list is: {[1,2,3,4]}\" # <--- You can insert a list\n",
    "\n",
    "\n",
    "boolean_expression = 101 >= 149 # returns False\n",
    "my_new_string_4 = f\"The boolean answer is: {boolean_expression}\" # <--- You can insert a boolean expression\n",
    "\n",
    "print(my_new_string)\n",
    "print(my_new_string_2)\n",
    "print(my_new_string_3)\n",
    "print(my_new_string_4)"
   ]
  },
  {
   "cell_type": "markdown",
   "metadata": {},
   "source": [
    "### <b>User input</b>\n",
    "\n",
    "In Python, you can get a user's input by using the method `input()`\n",
    "\n",
    "You can also add strings to act as prompts between the `()`\n",
    "\n",
    "You can store the input into variables as well. User inputs are usually stored as strings!\n",
    "\n",
    "<pre><font color=orange>my_name</font> = <font color=orange>input(</font>\"What is your name\"<font color=orange>)</font></pre>"
   ]
  },
  {
   "cell_type": "markdown",
   "metadata": {},
   "source": [
    "<b><u>Exercise 2: </u>Try printing out your name!</b>"
   ]
  },
  {
   "cell_type": "code",
   "execution_count": 61,
   "metadata": {},
   "outputs": [
    {
     "name": "stdout",
     "output_type": "stream",
     "text": [
      "Hello, Rayyan!\n"
     ]
    }
   ],
   "source": [
    "name = input(\"What is your name?: \")\n",
    "print(\"Hello, \" + str(name) + \"!\")"
   ]
  },
  {
   "cell_type": "markdown",
   "metadata": {},
   "source": [
    "<b><u>Exercise 3: </u>Two sum</b>\n",
    "\n",
    "* Can you figure out what this code does?\n",
    "* Try running it!"
   ]
  },
  {
   "cell_type": "code",
   "execution_count": 62,
   "metadata": {},
   "outputs": [
    {
     "name": "stdout",
     "output_type": "stream",
     "text": [
      "The result is:  50\n"
     ]
    }
   ],
   "source": [
    "number1 = int(input(\"Enter the first number: \"))\n",
    "number2 = int(input(\"Enter the second number: \"))\n",
    "\n",
    "total = number1 + number2\n",
    "\n",
    "print(\"The result is: \", total)"
   ]
  }
 ],
 "metadata": {
  "kernelspec": {
   "display_name": "Python 3",
   "language": "python",
   "name": "python3"
  },
  "language_info": {
   "codemirror_mode": {
    "name": "ipython",
    "version": 3
   },
   "file_extension": ".py",
   "mimetype": "text/x-python",
   "name": "python",
   "nbconvert_exporter": "python",
   "pygments_lexer": "ipython3",
   "version": "3.11.4"
  }
 },
 "nbformat": 4,
 "nbformat_minor": 2
}
