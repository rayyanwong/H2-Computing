{
 "cells": [
  {
   "cell_type": "markdown",
   "metadata": {},
   "source": [
    "# 08. File Input Output"
   ]
  },
  {
   "cell_type": "markdown",
   "metadata": {},
   "source": [
    "Python allows us to open and read, create, update and delete data from files.\n",
    "\n",
    "For A levels, `csv` and `txt` are commonly worked with.\n",
    "\n",
    "#### <u>File Handling</u>\n",
    "\n",
    "To open a file, the method `open()` is used.\n",
    "\n",
    "The syntax for opening a file is: \n",
    "\n",
    "`open(filename, mode)`\n",
    "\n",
    "It takes in two <i>parameters</i> - filename and mode\n",
    "\n",
    "There are 4 main modes for opening a file:\n",
    "\n",
    "<table>\n",
    "   <tr>\n",
    "    <th>Character</th>\n",
    "    <th>Mode</th>\n",
    "    <th>Function</th>\n",
    "   </tr>\n",
    "   <tr>\n",
    "    <td>\"r\"</td>\n",
    "    <td>Read</td>\n",
    "    <td>Opens a file for reading (throws an error if the file does not exist)</td>\n",
    "   </tr>\n",
    "   <tr>\n",
    "    <td>\"w\"</td>\n",
    "    <td>Write</td>\n",
    "    <td>Opens a file for writing (creates the file if it does not exist)</td>\n",
    "   </tr>\n",
    "   <tr>\n",
    "    <td>\"a\"</td>\n",
    "    <td>Append</td>\n",
    "    <td>Opens a file for appending (creates the file if it does not exist)</td>\n",
    "   </tr>\n",
    "   <tr>\n",
    "    <td>\"x\"</td>\n",
    "    <td>Create</td>\n",
    "    <td>Creates the specified file (throws an error if the file already exists)</td>\n",
    "   </tr>\n",
    "</table>\n",
    "\n",
    "If no <code>mode</code> is supplied, it is in the read mode by default.\n",
    "\n",
    "It is always a good practice to close any files using the <b>.close()</b> method when we are done using them. Very often, changes made to a file may not appear until we close it.\n",
    "\n",
    "<b>Example 1: </b>Opening a text file named sample1.txt"
   ]
  },
  {
   "cell_type": "code",
   "execution_count": 3,
   "metadata": {},
   "outputs": [],
   "source": [
    "# assign a variable to the file\n",
    "\n",
    "# using the open() function to open sample1.txt\n",
    "f1 = open(\"sample1.txt\")\n",
    "\n",
    "# using the close() function to close sample1.txt ( important as you will be marked for it )\n",
    "f1.close()"
   ]
  },
  {
   "cell_type": "markdown",
   "metadata": {},
   "source": [
    "#### <u>Reading a file</u>\n",
    "\n",
    "To read the entire content of a file, you can use the `read()` method"
   ]
  },
  {
   "cell_type": "code",
   "execution_count": 11,
   "metadata": {},
   "outputs": [
    {
     "name": "stdout",
     "output_type": "stream",
     "text": [
      "Hello\n",
      "World\n"
     ]
    }
   ],
   "source": [
    "f1 = open('sample1.txt', 'r')\n",
    "\n",
    "data = f1.read()\n",
    "\n",
    "f1.close()\n",
    "\n",
    "print(data)"
   ]
  },
  {
   "cell_type": "markdown",
   "metadata": {},
   "source": [
    "To read a line of the file, you can use the `readline()` method"
   ]
  },
  {
   "cell_type": "code",
   "execution_count": 8,
   "metadata": {},
   "outputs": [
    {
     "name": "stdout",
     "output_type": "stream",
     "text": [
      "Hello\n",
      "\n",
      "World\n"
     ]
    }
   ],
   "source": [
    "# This code snippet reads the first two lines of sample1.txt\n",
    "\n",
    "f1 = open('sample1.txt', 'r')\n",
    "\n",
    "data = f1.readline() # calling it for the first time reads the FIRST line\n",
    "\n",
    "data2 = f1.readline() # calling it AGAIN moves on to the next line, and so on for additional calls\n",
    "\n",
    "f1.close()\n",
    "\n",
    "print(data)\n",
    "print(data2)"
   ]
  },
  {
   "cell_type": "markdown",
   "metadata": {},
   "source": [
    "To read the lines of the file ( similar to the `read()` method ), you can also use `readlines()` method.\n",
    "\n",
    "However, it returns a list instead. Each item in the list represents each row. \n",
    "\n",
    "In the snippet below, there is a newline (`\\n`) after Hello. This is because \"World\" starts on the next line.\n",
    "\n",
    "What do you observe from `readlines()` compared to `read()`?"
   ]
  },
  {
   "cell_type": "code",
   "execution_count": 9,
   "metadata": {},
   "outputs": [
    {
     "name": "stdout",
     "output_type": "stream",
     "text": [
      "['Hello\\n', 'World']\n"
     ]
    }
   ],
   "source": [
    "f1 = open('sample1.txt', 'r')\n",
    "\n",
    "data = f1.readlines()\n",
    "\n",
    "f1.close()\n",
    "\n",
    "print(data)"
   ]
  },
  {
   "cell_type": "markdown",
   "metadata": {},
   "source": [
    "<b>Example 2:</b> Given that there are numbers in the file sample2.txt, each on a new row, find the sum of all the numbers. (using `readlines()`)"
   ]
  },
  {
   "cell_type": "code",
   "execution_count": 14,
   "metadata": {},
   "outputs": [
    {
     "name": "stdout",
     "output_type": "stream",
     "text": [
      "Raw data is:  ['2\\n', '4\\n', '7\\n', '5\\n', '4\\n', '1\\n', '4']\n",
      "The total sum is:  27\n"
     ]
    }
   ],
   "source": [
    "f2 = open('sample2.txt', 'r')\n",
    "\n",
    "data = f2.readlines()\n",
    "\n",
    "print(\"Raw data is: \", data)\n",
    "\n",
    "total = 0\n",
    "\n",
    "for n in data:\n",
    "    number = int(n.strip()) ## can you guess what does .strip() do?\n",
    "    total += number\n",
    "\n",
    "f2.close()\n",
    "\n",
    "print(\"The total sum is: \", total)"
   ]
  },
  {
   "cell_type": "markdown",
   "metadata": {},
   "source": [
    "#### <u>Writing to a file</u>\n",
    "\n",
    "\n",
    "To write to an existing file, the mode in the `open()` function must include either:\n",
    "\n",
    "- `\"a\"` : Append - will append to the end of the file\n",
    "- `\"w\"` : Write - will overwrite any existing content of the file\n",
    "\n",
    "<b>Example 3:</b> Append content to the file \"sample3.txt\""
   ]
  },
  {
   "cell_type": "code",
   "execution_count": 17,
   "metadata": {},
   "outputs": [
    {
     "name": "stdout",
     "output_type": "stream",
     "text": [
      "Initial data is:  This is the content of sample3 text file!\n",
      "New content is:  This is the content of sample3 text file!Now the file has more content!\n"
     ]
    }
   ],
   "source": [
    "f3 = open(\"sample3.txt\" , \"r\")\n",
    "\n",
    "initial = f3.read()\n",
    "print(\"Initial data is: \",initial)\n",
    "\n",
    "f3.close()\n",
    "\n",
    "# now we will use the \"a\" mode\n",
    "\n",
    "f3 = open(\"sample3.txt\", \"a\")\n",
    "\n",
    "f3.write(\"Now the file has more content!\")\n",
    " \n",
    "f3.close()\n",
    "\n",
    "# lets read the new content of the file\n",
    "\n",
    "f3 = open(\"sample3.txt\" , \"r\")\n",
    "\n",
    "print(\"New content is: \", f3.read())\n",
    "\n",
    "f3.close()"
   ]
  },
  {
   "cell_type": "markdown",
   "metadata": {},
   "source": [
    "<b>Example 4:</b> Opening \"sample3.txt\" and overwritting its content"
   ]
  },
  {
   "cell_type": "code",
   "execution_count": 18,
   "metadata": {},
   "outputs": [
    {
     "name": "stdout",
     "output_type": "stream",
     "text": [
      "Oops i have deleted the content of sample3!\n"
     ]
    }
   ],
   "source": [
    "f3 = open(\"sample3.txt\", \"w\")\n",
    "f3.write(\"Oops i have deleted the content of sample3!\")\n",
    "f3.close()\n",
    "\n",
    "f3 = open(\"sample3.txt\" , \"r\")\n",
    "print(f3.read())\n",
    "f3.close()"
   ]
  },
  {
   "cell_type": "markdown",
   "metadata": {},
   "source": [
    "#### <u>Using the split() method</u>\n",
    "\n",
    "Data in files are usually seperated using `,` ( commas ), `\" \"` ( white spaces ), `\\n` ( newlines ) and etc.\n",
    "\n",
    "The <b>.split()</b> method of a string can be used conveniently to extract the data separated by a particular character into a list. When no argument is passed into the method, the separator is a white space by default."
   ]
  },
  {
   "cell_type": "code",
   "execution_count": 20,
   "metadata": {},
   "outputs": [
    {
     "name": "stdout",
     "output_type": "stream",
     "text": [
      "['1', '2', '3', '4', '5']\n",
      "['6', '7', '8', '9', '10']\n"
     ]
    }
   ],
   "source": [
    "# With no argument\n",
    "\n",
    "row1 = \"1 2 3 4 5\"\n",
    "output1 = row1.split()\n",
    "print(output1)\n",
    "\n",
    "# With argument, split using comma\n",
    "\n",
    "row2 = \"6,7,8,9,10\"\n",
    "output2 = row2.split(\",\")\n",
    "print(output2)"
   ]
  },
  {
   "cell_type": "markdown",
   "metadata": {},
   "source": [
    "#### <u>Using the strip() method</u>\n",
    "\n",
    "Notice how when we use the `readlines()` method, there are `\\n` newlines at the end of each row - suggesting that it moves on to the next row.\n",
    "\n",
    "To remove this newline character at the end of each line, as well as leading and trailing white spaces, you can use the `strip()` method of a string when no argument is passed into it\n",
    "\n",
    "Here are some examples on how to use it"
   ]
  },
  {
   "cell_type": "code",
   "execution_count": 26,
   "metadata": {},
   "outputs": [
    {
     "name": "stdout",
     "output_type": "stream",
     "text": [
      "hello\n",
      "he   llo\n",
      "he  llo\n"
     ]
    }
   ],
   "source": [
    "word1 = \"      hello     \" # removing leading and trailing white space\n",
    "print(word1.strip())\n",
    "\n",
    "word2 = \"   he   llo    \"\n",
    "print(word2.strip())\n",
    "\n",
    "word3 = \"   he  llo \\n\\n\" # removing newline characters\n",
    "print(word3.strip())"
   ]
  },
  {
   "cell_type": "markdown",
   "metadata": {},
   "source": [
    "You can also specify your own character to strip from the string!"
   ]
  },
  {
   "cell_type": "code",
   "execution_count": 27,
   "metadata": {},
   "outputs": [
    {
     "name": "stdout",
     "output_type": "stream",
     "text": [
      "hello\n",
      "ey hey hey \n"
     ]
    }
   ],
   "source": [
    "word4 = \",,,hello,\"\n",
    "print(word4.strip(','))\n",
    "\n",
    "word5 = \"hey hey hey hhh\"\n",
    "print(word5.strip('h'))"
   ]
  },
  {
   "cell_type": "markdown",
   "metadata": {},
   "source": [
    "#### <u><b>WITH</b> statement</u>\n",
    "\n",
    "In Python, the `with`statement is used when working with an external resource, such as a text file, a database file, etc. \n",
    "\n",
    "It ensures that the file is automatically closed when the nested code finishes running or when there is an exception that may otherwise potentially jeopardise the integrity of the data stored.\n",
    "\n",
    "Here is how to use the `with` statement"
   ]
  },
  {
   "cell_type": "code",
   "execution_count": 30,
   "metadata": {},
   "outputs": [
    {
     "name": "stdout",
     "output_type": "stream",
     "text": [
      "[2, 4, 7, 5, 4, 1, 4]\n"
     ]
    }
   ],
   "source": [
    "numbers = []\n",
    "\n",
    "with open(\"sample2.txt\") as f5: # with open(filename, mode) as <variable>:\n",
    "    data = f5.readlines()\n",
    "    for n in data: \n",
    "        number_to_append = int(n.strip())\n",
    "        numbers.append(number_to_append)\n",
    "\n",
    "print(numbers)"
   ]
  },
  {
   "cell_type": "markdown",
   "metadata": {},
   "source": [
    "#### <u><b>CSV</b> Module</u>\n",
    "\n",
    "The <b>CSV (Comma Separated Values)</b> format is the most common import and export format for spreadsheets and databases. Python's CSV module offers another way for us to read from and write into files.\n",
    "\n",
    "Take a look at how the <b>.reader()</b> method behaves, paying close attention to the second argument supplied into the method."
   ]
  },
  {
   "cell_type": "code",
   "execution_count": 32,
   "metadata": {},
   "outputs": [
    {
     "name": "stdout",
     "output_type": "stream",
     "text": [
      "['Hello', 'World', 'This', 'Is', 'The', 'Content', 'Of', 'Sample4', 'Text', 'File']\n"
     ]
    }
   ],
   "source": [
    "import csv\n",
    "\n",
    "with open(\"sample4.txt\") as f1:\n",
    "    csv_file = csv.reader(f1, delimiter=',')\n",
    "    for line in csv_file:\n",
    "        print(line)"
   ]
  },
  {
   "cell_type": "markdown",
   "metadata": {},
   "source": [
    "The following code shows how the <b>.writer()</b> and <b>.writerow()</b> methods behave. Take a look at the file that is created after you run the code."
   ]
  },
  {
   "cell_type": "code",
   "execution_count": 33,
   "metadata": {},
   "outputs": [],
   "source": [
    "import csv\n",
    "\n",
    "lst1 = ['eagle', 'fox', 'giraffe', 'horse']\n",
    "lst2 = ['iguana', 'jaguar', 'kangaroo', 'llama']\n",
    "\n",
    "with open(\"sample5.txt\", \"w\") as f1:\n",
    "    csv_file = csv.writer(f1)\n",
    "    csv_file.writerow(lst1)\n",
    "    csv_file.writerow(lst2)\n",
    "\n",
    "with open(\"sample6.txt\", \"w\") as f1:\n",
    "    csv_file = csv.writer(f1, delimiter = \"\\n\")\n",
    "    csv_file.writerow(lst1)\n",
    "    csv_file.writerow(lst2)"
   ]
  },
  {
   "cell_type": "markdown",
   "metadata": {},
   "source": [
    "<font color=orange>Tip: </font>A CSV file can also be treated like a text file, except every value is seperated by a \",\". This can easily be resolved using the `split()` method.\n",
    "Since the delimiter of CSVs are commas, you can apply `.split(\",\")` to each row of data to get each individual value!"
   ]
  }
 ],
 "metadata": {
  "kernelspec": {
   "display_name": "Python 3",
   "language": "python",
   "name": "python3"
  },
  "language_info": {
   "codemirror_mode": {
    "name": "ipython",
    "version": 3
   },
   "file_extension": ".py",
   "mimetype": "text/x-python",
   "name": "python",
   "nbconvert_exporter": "python",
   "pygments_lexer": "ipython3",
   "version": "3.11.4"
  }
 },
 "nbformat": 4,
 "nbformat_minor": 2
}
