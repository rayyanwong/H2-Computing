{
 "cells": [
  {
   "cell_type": "markdown",
   "metadata": {},
   "source": [
    "# 11. Data validation and verification"
   ]
  },
  {
   "cell_type": "markdown",
   "metadata": {},
   "source": [
    "#### <u>Data validation</u>\n",
    "\n",
    "<b>Data validation</b> is the process to check if the data provided as inputs to a program conforms with the data requirements ( Important definition )\n",
    "\n",
    "There are 4 common ways for data validation\n",
    "\n",
    "<table>\n",
    "<tr>\n",
    "    <th>Type</th>\n",
    "    <th>Definition</th>\n",
    "</tr>\n",
    "<tr>\n",
    "    <td>Range check</td>\n",
    "    <td>Check that limits the input to a particular range of values</td>\n",
    "</tr>\n",
    "<tr>\n",
    "    <td>Format check</td>\n",
    "    <td>Check that ensures that an input matches the required data type with a given format</td>\n",
    "</tr>\n",
    "<tr>\n",
    "    <td>Length check</td>\n",
    "    <td>Check that limits an input to a certain (range of) length</td>\n",
    "</tr>\n",
    "<tr>\n",
    "    <td>Presence check</td>\n",
    "    <td>Check that a required input is supplied</td>\n",
    "</tr>\n",
    "</table>"
   ]
  },
  {
   "cell_type": "markdown",
   "metadata": {},
   "source": [
    "#### <u>Range check</u>\n",
    "\n",
    "It is a check that limits an input to a particular range of values.\n",
    "\n",
    "Here is an example of a code that takes in a test score as an integer between 0 and 100 inclusive, and prints out the grade."
   ]
  },
  {
   "cell_type": "code",
   "execution_count": 6,
   "metadata": {},
   "outputs": [
    {
     "name": "stdout",
     "output_type": "stream",
     "text": [
      "Grade: Fail\n"
     ]
    }
   ],
   "source": [
    "score = None\n",
    "grade = ''\n",
    "\n",
    "while score == None:\n",
    "    score = int(input(\"Enter score: \"))\n",
    "    \n",
    "    # Range check\n",
    "    if score < 0 or score > 100:\n",
    "        print(\"The score entered is out of range. It should be between 0 and 100 inclusive.\")\n",
    "        score = None\n",
    "\n",
    "if (score >= 70):\n",
    "    grade = 'Distinction'\n",
    "elif (score >= 60):\n",
    "    grade = 'Merit'\n",
    "elif (score >= 50):\n",
    "    grade = 'Pass'\n",
    "else:\n",
    "    grade = 'Fail'\n",
    "\n",
    "print(\"Grade: \" + grade)"
   ]
  },
  {
   "cell_type": "markdown",
   "metadata": {},
   "source": [
    "#### <u>Format check</u>\n",
    "\n",
    "It is a check that ensures that an input matches a required data type with a given format.\n",
    "\n",
    "For instance, a particular form may require the date to be entered in a DD/MM/YYYY format. It needs to check that each part of the date has the correct number of digits. Checking that the month is between 01 and 12, and that the date is between 01 and 28, 29, 30, or 31 (depending on the month and year), would fall under the range check described above.\n",
    "\n",
    "Consider the earlier code of converting a test score to a grade. If someone enters characters other than digits, the program will crash. As such, we need to handle such inputs."
   ]
  },
  {
   "cell_type": "code",
   "execution_count": 7,
   "metadata": {},
   "outputs": [
    {
     "name": "stdout",
     "output_type": "stream",
     "text": [
      "You have entered an invalid score. It must be an integer between 0 and 100 inclusive.\n",
      "Grade: Distinction\n"
     ]
    }
   ],
   "source": [
    "score = None\n",
    "grade = ''\n",
    "\n",
    "while (score == None):\n",
    "    score = input(\"Enter score: \")\n",
    "    \n",
    "    # Format check\n",
    "    if not score.isdigit():\n",
    "        print(\"You have entered an invalid score. It must be an integer between 0 and 100 inclusive.\")\n",
    "        score = None\n",
    "        continue\n",
    "\n",
    "    score = int(score)\n",
    "    \n",
    "    # Range check\n",
    "    if (int(score) < 0 or int(score) > 100):\n",
    "        print(\"The score entered is out of range. It should be between 0 and 100 inclusive.\")\n",
    "        score = None\n",
    "\n",
    "if (score >= 70):\n",
    "    grade = 'Distinction'\n",
    "elif (score >= 60):\n",
    "    grade = 'Merit'\n",
    "elif (score >= 50):\n",
    "    grade = 'Pass'\n",
    "else:\n",
    "    grade = 'Fail'\n",
    "\n",
    "print(\"Grade: \" + grade)"
   ]
  },
  {
   "cell_type": "markdown",
   "metadata": {},
   "source": [
    "#### <u>Length check</u>\n",
    "\n",
    "It is a check that limits an input to a certain (range of) length.\n",
    "\n",
    "Example: A password input that checks if password entered at least 8 characters or more"
   ]
  },
  {
   "cell_type": "code",
   "execution_count": 8,
   "metadata": {},
   "outputs": [
    {
     "name": "stdout",
     "output_type": "stream",
     "text": [
      "Your password needs to be at least 8 characters long.\n",
      "Password accepted.\n"
     ]
    }
   ],
   "source": [
    "password = None\n",
    "\n",
    "while password == None:\n",
    "    password = input(\"Create a password: \")\n",
    "\n",
    "    # Length check\n",
    "    if len(password) < 8:\n",
    "        print(\"Your password needs to be at least 8 characters long.\")\n",
    "        password = None\n",
    "\n",
    "print(\"Password accepted.\")"
   ]
  },
  {
   "cell_type": "markdown",
   "metadata": {},
   "source": [
    "#### <u>Presence check</u>\n",
    "\n",
    "It is a check that ensures that a required input is supplied.\n",
    "\n",
    "Example: For the password input above, we will display an error message if no password is supplied."
   ]
  },
  {
   "cell_type": "code",
   "execution_count": null,
   "metadata": {},
   "outputs": [],
   "source": [
    "password = None\n",
    "\n",
    "while password == None:\n",
    "    password = input(\"Create a password: \")\n",
    "\n",
    "    # Presence check\n",
    "    if (password == ''):\n",
    "        print(\"You have not entered anything.\")\n",
    "        password = None\n",
    "        \n",
    "    # Length check\n",
    "    elif len(password) < 8:\n",
    "        print(\"Your password needs to be at least 8 characters long.\")\n",
    "        password = None\n",
    "\n",
    "print(\"Password accepted.\")"
   ]
  },
  {
   "cell_type": "markdown",
   "metadata": {},
   "source": [
    "#### <u>Data verification</u>\n",
    "\n",
    "<b>Data verification</b> is the process to confirm if the data entered was what was intended to be enter ( Important definition )\n",
    "\n",
    "There are 3 common ways for data verification\n",
    "\n",
    "<table>\n",
    "<tr>\n",
    "    <th>Type</th>\n",
    "    <th>Definition</th>\n",
    "</tr>\n",
    "<tr>\n",
    "    <td>Check digit</td>\n",
    "    <td>A number which allows for detection of errors; through the use of a formula</td>\n",
    "</tr>\n",
    "<tr>\n",
    "    <td>Double entry</td>\n",
    "    <td>A process which asks the user to enter the data twice; to prevent typos or mismatch of data entered</td>\n",
    "</tr>\n",
    "<tr>\n",
    "    <td>Proofreading data</td>\n",
    "    <td>Example 1: Asking the user to do a visual check on the data before submitting\n",
    "    Example 2: Comparing the entered data with an exisiting data inside a database</td>\n",
    "</tr>\n",
    "</table>"
   ]
  }
 ],
 "metadata": {
  "kernelspec": {
   "display_name": "Python 3",
   "language": "python",
   "name": "python3"
  },
  "language_info": {
   "codemirror_mode": {
    "name": "ipython",
    "version": 3
   },
   "file_extension": ".py",
   "mimetype": "text/x-python",
   "name": "python",
   "nbconvert_exporter": "python",
   "pygments_lexer": "ipython3",
   "version": "3.11.4"
  }
 },
 "nbformat": 4,
 "nbformat_minor": 2
}
