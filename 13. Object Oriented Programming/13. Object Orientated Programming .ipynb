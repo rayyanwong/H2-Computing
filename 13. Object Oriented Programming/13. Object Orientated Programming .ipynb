{
 "cells": [
  {
   "cell_type": "markdown",
   "id": "ecb00188",
   "metadata": {},
   "source": [
    "# 13. Object Orientated Programming"
   ]
  },
  {
   "cell_type": "markdown",
   "id": "1c59d364",
   "metadata": {},
   "source": [
    "### <u>Important Definitions</u>\n",
    "\n",
    "Here are all the definitions frequently referred to:\n",
    "\n",
    "<table>\n",
    "    <tr>\n",
    "        <th>Term</th>\n",
    "        <th>Definition</th>\n",
    "    </tr>\n",
    "    <tr>\n",
    "        <td>Class</td>\n",
    "        <td>A blueprint that defines the properties and methods of a group of similar objects</td>\n",
    "    </tr>\n",
    "    <tr>\n",
    "        <td>Properties</td>\n",
    "        <td>Defining features of a class in terms of data</td>\n",
    "    </tr>\n",
    "    <tr>\n",
    "        <td>Methods</td>\n",
    "        <td>Code designed to perform particular tasks on data</td>\n",
    "    </tr>\n",
    "    <tr>\n",
    "        <td>Object</td>\n",
    "        <td>A specific instance of a class that have the same properties and methods as the class from which it is built</td>\n",
    "    </tr>\n",
    "    <tr>\n",
    "        <td>Accessor</td>\n",
    "        <td>The 'get' function to access the data stored in an object</td>\n",
    "    </tr>\n",
    "    <tr>\n",
    "        <td>Mutator</td>\n",
    "        <td>The 'set' function which allows modification to the data stored in an object</td>\n",
    "    </tr>\n",
    "    <tr>\n",
    "        <td>Constructor</td>\n",
    "        <td>The __init__ function which allocates the storage when an object is created</td>\n",
    "    </tr>\n",
    "    <tr>\n",
    "        <td>Utility</td>\n",
    "        <td>Methods which extend the functionality of the class. Eg. to perform tasks with/on an object</td>\n",
    "    </tr>\n",
    "    <tr>\n",
    "        <td>Encapsulation</td>\n",
    "        <td>Concept of bundling the properties and methods together as a package</td>\n",
    "    </tr>\n",
    "    <tr>\n",
    "        <td>Subclass</td>\n",
    "        <td>A subclass inherits all the properties and methods of the superclass, but the superclass may behave differently from the superclass with addition or modification of certain features</td>\n",
    "    </tr>\n",
    "    <tr>\n",
    "        <td>Inheritance</td>\n",
    "        <td>The concept of properties and methods in one class being shared with its subclass. This promotes reusability.</td>\n",
    "    </tr>\n",
    "    <tr>\n",
    "        <td>Polymorphism</td>\n",
    "        <td>It refers to concept of a subclass method, which is inherited from its superclass, used in a different way. It overrides the superclass method and redefines the implementation of the method</td>\n",
    "    </tr>\n",
    "</table>"
   ]
  },
  {
   "cell_type": "markdown",
   "id": "f06e97ec",
   "metadata": {},
   "source": [
    "The main advantages of OOP include:\n",
    "\n",
    "- Code reusability through inheritance: Do not have to recode similar methods\n",
    "- Code modularity for easier maintenance and troubleshooting\n",
    "- Code flexibility through polymorphism: Method names can have same names but different functionality\n",
    "\n",
    "\n",
    "<u>Properties and methods</u>\n",
    "\n",
    "We usually do not want our properties to be accidentally or intentionally modified by unauthorised users - thus, we should keep them <b>private.</b> However, users also need to access the data. Hence, we need to provide a set of <b>public</b> methods.\n",
    "\n",
    "- Methods can be both public and private"
   ]
  },
  {
   "cell_type": "markdown",
   "id": "030562e7",
   "metadata": {},
   "source": [
    "#### <u>Defining a class</u>\n",
    "\n",
    "We can create a class by using the keyword `class`:"
   ]
  },
  {
   "cell_type": "code",
   "execution_count": 1,
   "id": "d09b2d98",
   "metadata": {},
   "outputs": [],
   "source": [
    "class MyClass:\n",
    "    x = 5"
   ]
  },
  {
   "cell_type": "markdown",
   "id": "168c532d",
   "metadata": {},
   "source": [
    "#### <u>Creating an object</u>\n",
    "\n",
    "Since we have defined our class called MyClass, we can create our objects!"
   ]
  },
  {
   "cell_type": "code",
   "execution_count": 2,
   "id": "adff5e45",
   "metadata": {},
   "outputs": [],
   "source": [
    "first_obj = MyClass()\n",
    "second_obj = MyClass()"
   ]
  },
  {
   "cell_type": "markdown",
   "id": "b95b9530",
   "metadata": {},
   "source": [
    "#### <u>Constructor</u>\n",
    "\n",
    "However, the above example is too simple and not very applicable / useful in real life applications.\n",
    "\n",
    "We have to understand the build in <i>__init__</i> function.\n",
    "\n",
    "<b>ALL CLASSES</b> have a function called <i>__init__()</i>, which is always executed when the class is being initiated.\n",
    "\n",
    "The function is used to assign values to object properties, or perform necessary operations when the object is being created!\n",
    "\n",
    "<b><u>Example 1:</u></b> Creating a person class"
   ]
  },
  {
   "cell_type": "code",
   "execution_count": 3,
   "id": "b265c53c",
   "metadata": {},
   "outputs": [
    {
     "name": "stdout",
     "output_type": "stream",
     "text": [
      "Thomas\n",
      "20\n"
     ]
    }
   ],
   "source": [
    "class Person:\n",
    "\n",
    "    # your constructor method\n",
    "    def __init__(self, name, age): # <-- it always has \"self\" as the first argument\n",
    "\n",
    "        # now we assign the values of name and age provided as inputs to the variables of this newly created object.\n",
    "        self.name = name\n",
    "        self.age = age \n",
    "\n",
    "\n",
    "person1 = Person(\"Thomas\", 20)\n",
    "\n",
    "print(person1.name)\n",
    "print(person1.age)"
   ]
  },
  {
   "cell_type": "markdown",
   "id": "dbaae726",
   "metadata": {},
   "source": [
    "Notice how we were able to <b>directly</b> access the properties (data) of person1 object. In real life application, we should only access these properites through the use of <b>\"getters\"</b> and <b>\"setters\"</b> methods.\n",
    "\n",
    "#### <u>Accessor and Mutators</u>\n",
    "\n",
    "Accessors are used to \"get\" data\n",
    "Mutators are used to \"modify\" data\n",
    "\n",
    "Lets edit the class <font color=green>Person</font> to add \n",
    "- an accessor to get the person's age and name. \n",
    "- a mutator method to change the name of the person.\n",
    "- a method which determines if the person is over the age of 18.\n",
    "\n"
   ]
  },
  {
   "cell_type": "code",
   "execution_count": 1,
   "id": "b1967afa",
   "metadata": {},
   "outputs": [
    {
     "name": "stdout",
     "output_type": "stream",
     "text": [
      "John\n",
      "30\n",
      "True\n",
      "Thomas\n"
     ]
    }
   ],
   "source": [
    "class Person:\n",
    "\n",
    "    # your constructor method\n",
    "    def __init__(self, name, age): # <-- it always has \"self\" as the first argument\n",
    "\n",
    "        # now we assign the values of name and age provided as inputs to the variables of this newly created object.\n",
    "        self.name = name\n",
    "        self.age = age \n",
    "\n",
    "    def get_name(self): # <--- it must always have a self if the method is referring to the current instance of the object and trying to access its own properties\n",
    "        return self.name\n",
    "    \n",
    "    def get_age(self):  \n",
    "        return self.age\n",
    "\n",
    "    def change_name(self,new_name): # <--- always include the self as an argument, since it is trying to modify its own property\n",
    "        self.name = new_name\n",
    "        return \n",
    "    \n",
    "    def is_over_eighteen(self):\n",
    "        if self.age > 18:\n",
    "            return True\n",
    "        else:\n",
    "            return False\n",
    "    \n",
    "person2 = Person(\"John\", 30)\n",
    "print(person2.get_name())\n",
    "print(person2.get_age())\n",
    "print(person2.is_over_eighteen())\n",
    "\n",
    "person2.change_name(\"Thomas\")\n",
    "\n",
    "print(person2.get_name())"
   ]
  },
  {
   "cell_type": "markdown",
   "id": "ed8e5ab9",
   "metadata": {},
   "source": [
    "#### <u>Unified Modelling Language (UML)</u>\n",
    "\n",
    "An UML diagram is often used to illustrate OOP concepts.\n",
    "\n",
    "The minus sign `-` is used for private data such as properties\n",
    "The plus sign `+` is used for public operations such as methods\n",
    "\n",
    "This is an example of a class Person in an UML diagram\n",
    "\n",
    "![UML_person](UML_person.PNG)"
   ]
  },
  {
   "cell_type": "markdown",
   "id": "1e6a0437",
   "metadata": {},
   "source": [
    "<u><b>Exercise 1:</b></u> Create a Bank class\n",
    "\n",
    "The Bank class should take in 3 details during initialisation\n",
    "- name: name of the person\n",
    "- balance: balance of the person's bank account\n",
    "- int_rate: the annual interest rate of the bank\n",
    "\n",
    "Accessors:\n",
    "\n",
    "- get_name: To retrieve the name of the person who owns the account\n",
    "- get_balance: To retrieve the balance of the person's bank account\n",
    "- get_int_rate: To retrieve the interest rate of the person's bank account\n",
    "\n",
    "Methods:\n",
    "\n",
    "- deposit_money(amount): To deposit money into the bank account, denoted by the argument amount\n",
    "- withdraw_money(amount): To withdraw money from the bank account, denoted by the argument amount\n",
    "- add_interest_amount(): To increase the balance of the bank acccount with the money earned from the annual interest\n",
    "- change_int_rate(new_rate): To change the interest rate provided by the bank"
   ]
  },
  {
   "cell_type": "markdown",
   "id": "ff5a158e",
   "metadata": {},
   "source": [
    "#### <u>Inheritance</u>\n",
    "\n",
    "It is the concept of properties and methods in one class being shared with its subclass. This promotes reusability.\n",
    "\n",
    "The <b>Parent class</b> is the class being inherited from.\n",
    "The <b>Child class</b> is the class that inherits from another class.\n",
    "\n",
    "The syntax of creating a <b>Parent class</b> is the same as creating any other class.\n",
    "\n",
    "The syntax of creating a <b>Child class</b> is defined by the following:"
   ]
  },
  {
   "cell_type": "code",
   "execution_count": null,
   "id": "9ffb5ead",
   "metadata": {},
   "outputs": [],
   "source": [
    "class childClass(parentClass):\n",
    "\n",
    "    def <additional / overriding method name>(self, <arguments>):\n",
    "        <code>\n",
    "        \n",
    "    ..."
   ]
  },
  {
   "cell_type": "markdown",
   "id": "de57be5f",
   "metadata": {},
   "source": [
    "Let's try creating a parent class of <b>Person</b>, and a child class of <b>Student</b>"
   ]
  },
  {
   "cell_type": "code",
   "execution_count": 4,
   "id": "5852d108",
   "metadata": {},
   "outputs": [
    {
     "name": "stdout",
     "output_type": "stream",
     "text": [
      "thomas chan\n",
      "Jim tan\n",
      "Jim is currently studying!\n",
      "\n",
      "\n"
     ]
    },
    {
     "ename": "AttributeError",
     "evalue": "'Person' object has no attribute 'study'",
     "output_type": "error",
     "traceback": [
      "\u001b[1;31m---------------------------------------------------------------------------\u001b[0m",
      "\u001b[1;31mAttributeError\u001b[0m                            Traceback (most recent call last)",
      "Cell \u001b[1;32mIn[4], line 30\u001b[0m\n\u001b[0;32m     27\u001b[0m \u001b[38;5;28mprint\u001b[39m()\n\u001b[0;32m     29\u001b[0m \u001b[38;5;66;03m# calling a method defined in student ON parent class (person)\u001b[39;00m\n\u001b[1;32m---> 30\u001b[0m \u001b[43mperson1\u001b[49m\u001b[38;5;241;43m.\u001b[39;49m\u001b[43mstudy\u001b[49m()\n",
      "\u001b[1;31mAttributeError\u001b[0m: 'Person' object has no attribute 'study'"
     ]
    }
   ],
   "source": [
    "class Person:\n",
    "\n",
    "    def __init__(self, first_name, last_name):\n",
    "        self.first_name = first_name\n",
    "        self.last_name = last_name\n",
    "\n",
    "    def get_full_name(self):\n",
    "        return f\"{self.first_name} {self.last_name}\"\n",
    "    \n",
    "class Student(Person):\n",
    "    # this will inherit the properties and methods from the Person class    \n",
    "    def study(self):\n",
    "        print(f\"{self.first_name} is currently studying!\")\n",
    "\n",
    "\n",
    "person1 = Person(\"thomas\", \"chan\")\n",
    "student1 = Student(\"Jim\", \"tan\")\n",
    "\n",
    "print(person1.get_full_name())\n",
    "\n",
    "print(student1.get_full_name())\n",
    "\n",
    "# calling a method defined in student ON child class (student)\n",
    "\n",
    "student1.study()\n",
    "print()\n",
    "print()\n",
    "\n",
    "# calling a method defined in student ON parent class (person)\n",
    "person1.study()"
   ]
  },
  {
   "cell_type": "markdown",
   "id": "5835dce7",
   "metadata": {},
   "source": [
    "<u>Observations</u>\n",
    "\n",
    "- Initialisation for child class is the same as parent class if not defined specifically\n",
    "- Methods and properties defined in parent class can be accessed by an object of the child class\n",
    "- Methods defined in child class cannot be accessed by an object of the parent class\n",
    "\n",
    "The UML diagram of the Person and Student class can be represented by the following:\n",
    "\n",
    "![UML_parentchild](UML_parentchild.PNG)\n",
    "\n",
    "<br/>\n",
    "\n",
    "There are cases where your child class needs its own initialisation (overriding the Parent class init function), the following example is how you can do so"
   ]
  },
  {
   "cell_type": "code",
   "execution_count": 6,
   "id": "8c0f7886",
   "metadata": {},
   "outputs": [
    {
     "name": "stdout",
     "output_type": "stream",
     "text": [
      "Nan Hua Primary School\n",
      "Caleb wong\n"
     ]
    }
   ],
   "source": [
    "class Student(Person):\n",
    "\n",
    "    def __init__(self, first_name, last_name, school):\n",
    "\n",
    "        self.first_name = first_name\n",
    "        self.last_name = last_name\n",
    "        self.school = school\n",
    "\n",
    "    def get_school(self):\n",
    "        return self.school\n",
    "    \n",
    "\n",
    "student2 = Student(\"Caleb\", \"wong\", \"Nan Hua Primary School\")\n",
    "print(student2.get_school())\n",
    "print(student2.get_full_name())"
   ]
  },
  {
   "cell_type": "markdown",
   "id": "4465774a",
   "metadata": {},
   "source": [
    "In another case where you still want to keep the Parent's init function, but add additional properties for the child class, you can use the `super()` function, that allows the child class inherit all the methods and properties from its parent:"
   ]
  },
  {
   "cell_type": "code",
   "execution_count": 7,
   "id": "9d748cb7",
   "metadata": {},
   "outputs": [
    {
     "name": "stdout",
     "output_type": "stream",
     "text": [
      "2024\n"
     ]
    }
   ],
   "source": [
    "class Student(Person):\n",
    "\n",
    "    def __init__(self, first_name, last_name):\n",
    "        super().__init__(first_name, last_name)\n",
    "        self.enrolled_year = 2024\n",
    "\n",
    "    def get_enrolled_year(self):\n",
    "        return self.enrolled_year\n",
    "    \n",
    "student3 = Student(\"Mike\", \"Olsen\")\n",
    "print(student3.get_enrolled_year())"
   ]
  },
  {
   "cell_type": "markdown",
   "id": "dfb8e2f9",
   "metadata": {},
   "source": [
    "#### <u>Polymorphism</u>\n",
    "\n",
    "It refers to concept of a subclass method, which is inherited from its superclass, used in a different way. It overrides the superclass method and redefines the implementation of the method, thus allowing generalisation of a method name, which may behave slightly differently depending on the object the name is used on.\n",
    "\n",
    "With the example of Person, and student, I will use the method defined in person `get_full_name()` to get their fullname. However, i also want to include the enrolled year of a student behind their full name to create a username for their learning devices. Let's see how i can make use of Polymorphism!"
   ]
  },
  {
   "cell_type": "code",
   "execution_count": 9,
   "id": "ffe6ff58",
   "metadata": {},
   "outputs": [
    {
     "name": "stdout",
     "output_type": "stream",
     "text": [
      "Tim Cook\n",
      "Patrick Sim 2024\n"
     ]
    }
   ],
   "source": [
    "class Person:\n",
    "\n",
    "    def __init__(self, first_name, last_name):\n",
    "        self.first_name = first_name\n",
    "        self.last_name = last_name\n",
    "\n",
    "    def get_full_name(self):\n",
    "        return f\"{self.first_name} {self.last_name}\"\n",
    "    \n",
    "\n",
    "class Student(Person):\n",
    "\n",
    "    def __init__(self, first_name, last_name):\n",
    "        super().__init__(first_name, last_name)\n",
    "        self.enrolled_year = 2024\n",
    "\n",
    "    def get_enrolled_year(self):\n",
    "        return self.enrolled_year\n",
    "    \n",
    "    def get_full_name(self):\n",
    "        return f\"{self.first_name} {self.last_name} {self.enrolled_year}\"\n",
    "    \n",
    "person2 = Person(\"Tim\", \"Cook\")\n",
    "print(person2.get_full_name())\n",
    "\n",
    "student4 = Student(\"Patrick\", \"Sim\")\n",
    "print(student4.get_full_name())"
   ]
  }
 ],
 "metadata": {
  "kernelspec": {
   "display_name": "Python 3",
   "language": "python",
   "name": "python3"
  },
  "language_info": {
   "codemirror_mode": {
    "name": "ipython",
    "version": 3
   },
   "file_extension": ".py",
   "mimetype": "text/x-python",
   "name": "python",
   "nbconvert_exporter": "python",
   "pygments_lexer": "ipython3",
   "version": "3.11.4"
  }
 },
 "nbformat": 4,
 "nbformat_minor": 5
}
