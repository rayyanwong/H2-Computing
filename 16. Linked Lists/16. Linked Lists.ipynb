{
 "cells": [
  {
   "cell_type": "markdown",
   "metadata": {},
   "source": [
    "# 16. Linked Lists"
   ]
  },
  {
   "cell_type": "markdown",
   "metadata": {},
   "source": [
    "#### <u>Linked list</u>\n",
    "\n",
    "A <b>Linked list</b> is a linear data structure similar to arrays. It is a collection of nodes that are linked with each other. \n",
    "\n",
    "A <b>node</b> usually contains two things:\n",
    "- Data\n",
    "- Pointer that connects it to another node\n",
    "\n",
    "A linked list can have multiple <b>nodes</b>, and each <b>node</b> contains a data and points to another <b>node</b>. The first <b>node</b> is where the <b>head of the linked list</b> points and we can access all the elements of the linked list using the <b>head</b>.\n",
    "\n",
    "The following diagram shows a visual representation of a linked list.\n",
    "\n",
    "![linked_list_img](Linked_list.PNG)\n",
    "\n",
    "The node which contains data \"A\", has a pointer (next) to node with data \"B\".\n",
    "\n",
    "At the end of the linked list, the node containing \"C\", has a pointer (next) to NULL, which typically denotes the end of the linked list.\n",
    "\n",
    "Let's try implementing our own linked list class. We will also need to implement a node class to be used in our linked list."
   ]
  },
  {
   "cell_type": "code",
   "execution_count": 14,
   "metadata": {},
   "outputs": [],
   "source": [
    "# creating the node class\n",
    "\n",
    "class Node:\n",
    "    def __init__(self, data):\n",
    "        self.data = data\n",
    "        self.next = None\n",
    "\n",
    "\n",
    "class LinkedList:\n",
    "    def __init__(self):\n",
    "        self.head = None"
   ]
  },
  {
   "cell_type": "code",
   "execution_count": 15,
   "metadata": {},
   "outputs": [],
   "source": [
    "node1 = Node(\"A\")\n",
    "node2 = Node(\"B\")\n",
    "node3 = Node(\"C\")\n",
    "\n",
    "linked_lst = LinkedList()"
   ]
  },
  {
   "cell_type": "code",
   "execution_count": 16,
   "metadata": {},
   "outputs": [
    {
     "name": "stdout",
     "output_type": "stream",
     "text": [
      "None\n",
      "None\n",
      "None\n"
     ]
    }
   ],
   "source": [
    "# since we have not linked each node yet, printing node.next will result in None for all the nodes\n",
    "\n",
    "print(node1.next)\n",
    "print(node2.next)\n",
    "\n",
    "# similar to the linked_lst, since we have not appointed the \"Head\" node, it will also be None\n",
    "\n",
    "print(linked_lst.head)"
   ]
  },
  {
   "cell_type": "code",
   "execution_count": 17,
   "metadata": {},
   "outputs": [],
   "source": [
    "# lets appoint the head of the linked_lst to be node1\n",
    "\n",
    "linked_lst.head = node1"
   ]
  },
  {
   "cell_type": "code",
   "execution_count": 18,
   "metadata": {},
   "outputs": [
    {
     "name": "stdout",
     "output_type": "stream",
     "text": [
      "A\n"
     ]
    }
   ],
   "source": [
    "# now when we print the head of the linked list, it should be node1\n",
    "\n",
    "print(linked_lst.head.data)"
   ]
  },
  {
   "cell_type": "code",
   "execution_count": 19,
   "metadata": {},
   "outputs": [
    {
     "name": "stdout",
     "output_type": "stream",
     "text": [
      "A\n",
      "B\n",
      "C\n",
      "None\n"
     ]
    }
   ],
   "source": [
    "# now, to link the nodes to each other, as shown in the diagram, we can assign the nodes to the \"next\" pointer of the previous node\n",
    "\n",
    "# node1 -> node2 -> node3 -> null\n",
    "# ^head\n",
    "\n",
    "node1.next = node2\n",
    "# node1 -> node2\n",
    "\n",
    "node2.next = node3\n",
    "# node2 -> node3\n",
    "\n",
    "print(linked_lst.head.data) # data at the head of the linked list (node1)\n",
    "print(node1.next.data) # data at the \"next\" node of the head, which is node2\n",
    "print(node2.next.data) # data at the \"next\" node of node2, which is node3\n",
    "print(node3.next) # since the pointer at node3 points to None, it does not have a .data"
   ]
  },
  {
   "cell_type": "markdown",
   "metadata": {},
   "source": [
    "<u><b>Example 1:</b></u> Creating a function that prints all the nodes in a linked \n",
    "\n",
    "Mental model: \n",
    "\n",
    "- We need to start from the head of the linked list\n",
    "- Everytime there is a next pointer, we can move to that node and print its data\n",
    "- If the next pointer is a None, we stop printing"
   ]
  },
  {
   "cell_type": "code",
   "execution_count": 22,
   "metadata": {},
   "outputs": [],
   "source": [
    "class Node:\n",
    "    def __init__(self, data):\n",
    "        self.data = data\n",
    "        self.next = None\n",
    "\n",
    "\n",
    "class LinkedList:\n",
    "    def __init__(self):\n",
    "        self.head = None\n",
    "\n",
    "    def print_nodes(self):\n",
    "        if (self.head):  # check if there is a head\n",
    "            cur_node = self.head\n",
    "            while (cur_node):\n",
    "                print(cur_node.data)\n",
    "                cur_node = cur_node.next\n",
    "        else:\n",
    "            print(\"linked list is empty!\")\n",
    "\n",
    "node1 = Node(\"A\")\n",
    "node2 = Node(\"B\")\n",
    "node3 = Node(\"C\")\n",
    "\n",
    "linked_lst = LinkedList()"
   ]
  },
  {
   "cell_type": "code",
   "execution_count": 12,
   "metadata": {},
   "outputs": [
    {
     "name": "stdout",
     "output_type": "stream",
     "text": [
      "linked list is empty!\n"
     ]
    }
   ],
   "source": [
    "# test case 1, printing when linked list is empty\n",
    "\n",
    "linked_lst.print_nodes()"
   ]
  },
  {
   "cell_type": "code",
   "execution_count": 21,
   "metadata": {},
   "outputs": [
    {
     "name": "stdout",
     "output_type": "stream",
     "text": [
      "A\n",
      "B\n",
      "C\n"
     ]
    }
   ],
   "source": [
    "# test case 2, printing when linked list has nodes\n",
    "\n",
    "linked_lst.head = node1\n",
    "node1.next = node2\n",
    "node2.next = node3\n",
    "\n",
    "linked_lst.print_nodes()"
   ]
  },
  {
   "cell_type": "markdown",
   "metadata": {},
   "source": [
    "#### <u>Methods of a Linked list</u>\n",
    "\n",
    "Typically, there are a few common methods of a linked list that you will be required to implement.\n",
    "\n",
    "- Printing entries ( traversal )\n",
    "- Adding a node to the linked list\n",
    "- Inserting a node at a specific position in a linked list\n",
    "- Searching for an entry\n",
    "- Deleting a node from the linked list at a specific index / of a specific data\n",
    "- Updating a node of a linked list at a specific index / of a specific data\n",
    "- Getting the length of a linked list \n",
    "\n",
    "\n",
    "\n",
    "#### <u>Adding a node to the linked list</u>\n",
    "\n",
    "- At the start of the linked list (`add_start`)\n",
    "- At the end of the linked list (`add_end`)\n",
    "- After a node in the linked list (`add_after`)\n",
    "\n"
   ]
  },
  {
   "cell_type": "code",
   "execution_count": 23,
   "metadata": {},
   "outputs": [],
   "source": [
    "class LinkedList:\n",
    "\n",
    "    def __init__(self):\n",
    "        self.head = None\n",
    "\n",
    "    def add_start(self, data):\n",
    "        new_node = Node(data)\n",
    "        if self.head == None: # if there is no nodes in the ll (empty), we just need to appoint the new data as the head\n",
    "            self.head = new_node\n",
    "        else:                 # if there are nodes in the ll, we need to replace the head with the new node, then point the new node to the node that used to be the \"head\"\n",
    "            new_node.next = self.head\n",
    "            self.head = new_node\n",
    "        return\n",
    "\n",
    "    def add_end(self, data):\n",
    "        new_node = Node(data)\n",
    "        # to check if the ll is empty, if it is empty, then appoint it as the head\n",
    "        if self.head == None:\n",
    "            self.head = new_node\n",
    "        else:\n",
    "            cur_node = self.head\n",
    "            while(cur_node.next):\n",
    "                cur_node = cur_node.next\n",
    "            # once we have reached the last node of the linked list, we can appoint the \"next\" pointer of the last node to the new node we want to insert\n",
    "            cur_node.next = new_node\n",
    "        return\n",
    "\n",
    "    def add_after(self, prev_node, data): \n",
    "        if prev_node == None: \n",
    "            print(\"Previous node cannot be None\")\n",
    "            return\n",
    "        \n",
    "        # since we are given the direct node we want to add after, we just need to update the new node to point to the node that prev_node is pointing to,\n",
    "        # and update prev_node to point to the new_node we want to insert\n",
    "\n",
    "        new_node = Node(data)\n",
    "        next_node = prev_node.next\n",
    "        prev_node.next = new_node\n",
    "        new_node.next = next_node\n",
    "        return\n"
   ]
  },
  {
   "cell_type": "code",
   "execution_count": 28,
   "metadata": {},
   "outputs": [
    {
     "name": "stdout",
     "output_type": "stream",
     "text": [
      "Math\n",
      "Science\n",
      "Computing\n"
     ]
    }
   ],
   "source": [
    "ll_2 = LinkedList()\n",
    "ll_2.add_end(\"Math\")\n",
    "print(ll_2.head.data)\n",
    "\n",
    "ll_2.add_start(\"Science\")\n",
    "print(ll_2.head.data)\n",
    "\n",
    "ll_2.add_after(ll_2.head, \"Computing\")\n",
    "\n",
    "print(ll_2.head.next.data)"
   ]
  },
  {
   "cell_type": "markdown",
   "metadata": {},
   "source": [
    "#### <u>Inserting at an index</u>"
   ]
  },
  {
   "cell_type": "code",
   "execution_count": 29,
   "metadata": {},
   "outputs": [],
   "source": [
    "class LinkedList:\n",
    "\n",
    "    def __init__(self):\n",
    "        self.head = None\n",
    "\n",
    "    def add_start(self, data):\n",
    "        new_node = Node(data)\n",
    "        if self.head == None: # if there is no nodes in the ll (empty), we just need to appoint the new data as the head\n",
    "            self.head = new_node\n",
    "        else:                 # if there are nodes in the ll, we need to replace the head with the new node, then point the new node to the node that used to be the \"head\"\n",
    "            new_node.next = self.head\n",
    "            self.head = new_node\n",
    "        return\n",
    "\n",
    "    def insertAtIdx(self, data, idx):\n",
    "        if (idx == 0):\n",
    "            self.add_start(data)\n",
    "            return\n",
    "        position = 0\n",
    "        cur_node = self.head\n",
    "        while (cur_node != None and position + 1 != idx):\n",
    "            position += 1\n",
    "            cur_node = cur_node.next\n",
    "\n",
    "        if cur_node != None:\n",
    "            new_node = Node(data)\n",
    "            new_node.next = cur_node.next\n",
    "            cur_node.next = new_node\n",
    "        else:\n",
    "            print(\"Index not present\")\n",
    "\n",
    "        return"
   ]
  },
  {
   "cell_type": "code",
   "execution_count": 35,
   "metadata": {},
   "outputs": [
    {
     "name": "stdout",
     "output_type": "stream",
     "text": [
      "Index not present\n",
      "Chinese\n",
      "Japanese\n",
      "Korean\n"
     ]
    }
   ],
   "source": [
    "ll_3 = LinkedList()\n",
    "\n",
    "ll_3.insertAtIdx(\"English\", 1)\n",
    "ll_3.insertAtIdx(\"Chinese\", 0)\n",
    "print(ll_3.head.data)\n",
    "ll_3.insertAtIdx(\"Japanese\", 1)\n",
    "print(ll_3.head.next.data)\n",
    "\n",
    "ll_3.insertAtIdx(\"Korean\", 1)\n",
    "print(ll_3.head.next.data)"
   ]
  },
  {
   "cell_type": "markdown",
   "metadata": {},
   "source": [
    "#### <u>Searching for an entry</u>\n",
    "\n",
    "Mental model:\n",
    "\n",
    "- Go through the linked list\n",
    "- As long as there is a next node and it has not been found, you can traverse to the next node\n",
    "- If there is no longer a next node, it has reached the end of the linked list -> entry cannot be found"
   ]
  },
  {
   "cell_type": "code",
   "execution_count": 45,
   "metadata": {},
   "outputs": [
    {
     "name": "stdout",
     "output_type": "stream",
     "text": [
      "Linked list is empty!\n",
      "False\n",
      "\n",
      "Iterative search:\n",
      "False\n",
      "True\n",
      "\n",
      "Recursive search:\n",
      "False\n",
      "True\n"
     ]
    }
   ],
   "source": [
    "class LinkedList:\n",
    "\n",
    "    def __init__(self):\n",
    "        self.head = None\n",
    "        \n",
    "\n",
    "    def add_end(self, data):\n",
    "        new_node = Node(data)\n",
    "        # to check if the ll is empty, if it is empty, then appoint it as the head\n",
    "        if self.head == None:\n",
    "            self.head = new_node\n",
    "        else:\n",
    "            cur_node = self.head\n",
    "            while(cur_node.next):\n",
    "                cur_node = cur_node.next\n",
    "            # once we have reached the last node of the linked list, we can appoint the \"next\" pointer of the last node to the new node we want to insert\n",
    "            cur_node.next = new_node\n",
    "        return\n",
    "\n",
    "    def search_iterative(self, to_find):\n",
    "        cur_node = self.head\n",
    "        if cur_node == None:\n",
    "            print(\"Linked list is empty!\")\n",
    "            return False\n",
    "        \n",
    "        while (cur_node):\n",
    "            if (cur_node.data == to_find):\n",
    "                return True\n",
    "            cur_node = cur_node.next\n",
    "        \n",
    "        return False\n",
    "    \n",
    "    def search_recursive(self, to_find):\n",
    "\n",
    "        def helper(cur, to_find):\n",
    "            if not cur:\n",
    "                return False\n",
    "            elif cur.data == to_find:\n",
    "                return True\n",
    "            else:\n",
    "                return helper(cur.next, to_find)\n",
    "            \n",
    "        return helper(self.head, to_find)\n",
    "    \n",
    "\n",
    "ll_4 = LinkedList()\n",
    "print(ll_4.search_iterative(\"A\"))\n",
    "print()\n",
    "\n",
    "ll_4.add_end(\"A\")\n",
    "ll_4.add_end(\"B\")\n",
    "ll_4.add_end(\"C\")\n",
    "\n",
    "print(\"Iterative search:\")\n",
    "print(ll_4.search_iterative(\"D\"))\n",
    "print(ll_4.search_iterative(\"A\"))\n",
    "\n",
    "print()\n",
    "print(\"Recursive search:\")\n",
    "print(ll_4.search_recursive(\"Z\"))\n",
    "print(ll_4.search_recursive(\"C\"))"
   ]
  },
  {
   "cell_type": "markdown",
   "metadata": {},
   "source": [
    "#### <u>Deleting a node in a linked list</u>\n",
    "\n",
    "- Traverse through the linked list\n",
    "- If the data == data_to_delete\n",
    "- Delete the node and update the pointers accordingly"
   ]
  },
  {
   "cell_type": "code",
   "execution_count": 46,
   "metadata": {},
   "outputs": [],
   "source": [
    "class LinkedList:\n",
    "\n",
    "    def __init__(self):\n",
    "        self.head = None\n",
    "        \n",
    "\n",
    "    def add_end(self, data):\n",
    "        new_node = Node(data)\n",
    "        # to check if the ll is empty, if it is empty, then appoint it as the head\n",
    "        if self.head == None:\n",
    "            self.head = new_node\n",
    "        else:\n",
    "            cur_node = self.head\n",
    "            while(cur_node.next):\n",
    "                cur_node = cur_node.next\n",
    "            # once we have reached the last node of the linked list, we can appoint the \"next\" pointer of the last node to the new node we want to insert\n",
    "            cur_node.next = new_node\n",
    "        return\n",
    "    \n",
    "    def delete_node(self, data_to_delete):\n",
    "        \n",
    "        cur_node = self.head\n",
    "        prev_node = None\n",
    "\n",
    "        if cur_node == None:\n",
    "            print(\"Linked list is empty!\")\n",
    "            return\n",
    "        \n",
    "        ## check if data to delete is the head of linked list\n",
    "        if self.head.data == data_to_delete:\n",
    "            self.head = cur_node.next\n",
    "            cur_node = None\n",
    "            return\n",
    "        \n",
    "        while (cur_node):\n",
    "            if (cur_node.data == data_to_delete):\n",
    "                prev_node.next = cur_node.next\n",
    "                cur_node = None\n",
    "                return\n",
    "            \n",
    "            temp = cur_node\n",
    "            cur_node = cur_node.next\n",
    "            prev_node = temp\n",
    "\n",
    "        return\n"
   ]
  },
  {
   "cell_type": "code",
   "execution_count": 47,
   "metadata": {},
   "outputs": [
    {
     "name": "stdout",
     "output_type": "stream",
     "text": [
      "Linked list is empty!\n"
     ]
    }
   ],
   "source": [
    "ll_5 = LinkedList()\n",
    "\n",
    "ll_5.delete_node(\"A\")"
   ]
  },
  {
   "cell_type": "code",
   "execution_count": 49,
   "metadata": {},
   "outputs": [
    {
     "name": "stdout",
     "output_type": "stream",
     "text": [
      "C\n",
      "C\n"
     ]
    }
   ],
   "source": [
    "ll_5.add_end(\"A\")\n",
    "ll_5.add_end(\"B\")\n",
    "ll_5.add_end(\"C\")\n",
    "\n",
    "ll_5.delete_node(\"B\")\n",
    "print(ll_5.head.next.data)\n",
    "\n",
    "ll_5.delete_node(\"A\")\n",
    "print(ll_5.head.data)"
   ]
  }
 ],
 "metadata": {
  "kernelspec": {
   "display_name": "Python 3",
   "language": "python",
   "name": "python3"
  },
  "language_info": {
   "codemirror_mode": {
    "name": "ipython",
    "version": 3
   },
   "file_extension": ".py",
   "mimetype": "text/x-python",
   "name": "python",
   "nbconvert_exporter": "python",
   "pygments_lexer": "ipython3",
   "version": "3.11.4"
  }
 },
 "nbformat": 4,
 "nbformat_minor": 2
}
