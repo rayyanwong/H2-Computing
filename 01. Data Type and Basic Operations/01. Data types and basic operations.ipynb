{
 "cells": [
  {
   "cell_type": "markdown",
   "metadata": {},
   "source": [
    "# 01. Data types and Basic Operations ( Practical )"
   ]
  },
  {
   "cell_type": "markdown",
   "metadata": {},
   "source": [
    "## <u>What are variables?</u>"
   ]
  },
  {
   "cell_type": "markdown",
   "metadata": {},
   "source": [
    "<b>Variable</b> is a name declared in a program to <u>represent something.</u> It can represent:\n",
    "*   value\n",
    "*\tdata\n",
    "*\tfile\n",
    "\n",
    "When a variable is created, you will be able to retrieve or modify it's value!"
   ]
  },
  {
   "cell_type": "markdown",
   "metadata": {},
   "source": [
    "## <u>Naming Conventions</u>\n",
    "\n",
    "It is important to name your variables properly to prevent confusion, provide helpful information and make your code readable.\n",
    "\n",
    "1. Every variable must begin with a letter or an underscore ( _ ).\n",
    "\n",
    "    * A numeral is not allowed as the first character. e.g 1_my_name is not allowed.\n",
    "    * Multiple-word names can be linked together using the underscore, e.g. my_name, my_school.<br>\n",
    "<br><br>\n",
    "2.\tAfter the first letter, the variable may contain any combination of letters, numbers and underscores.\n",
    "\n",
    "    * The variable can be of any length.\n",
    "    * The variable cannot be a keyword. (words that are used by Python for commands)\n",
    "    * The variable cannot contain any delimiters (e.g. parentheses), punctuation, or operators (e.g. +, -, *, \\).\n",
    "    * The variable is case sensitive, i.e. variable_1 is different from Variable_1 or VARIABLE_1\n",
    "\n",
    "### Examples of <b>ILLEGAL</b> variable names\n",
    "<font color = red>2myvar = \"John\" <br>\n",
    "my-var = \"John\" <br>\n",
    "my var = \"John\"</font>"
   ]
  },
  {
   "cell_type": "markdown",
   "metadata": {},
   "source": [
    "<b><u>Exercise 1:</u> Assigning a variable: </b>"
   ]
  },
  {
   "cell_type": "code",
   "execution_count": 2,
   "metadata": {},
   "outputs": [],
   "source": [
    "myvar = \"John\"\n",
    "my_var = \"John\"\n",
    "_my_var = \"John\"\n",
    "myVar = \"John\"\n",
    "MYVAR = \"John\"\n",
    "myvar2 = \"John\"\n",
    "\n",
    "# Try creating your own variable!"
   ]
  },
  {
   "cell_type": "markdown",
   "metadata": {},
   "source": [
    "## <u>Data Types</u>"
   ]
  },
  {
   "cell_type": "markdown",
   "metadata": {},
   "source": [
    "In programming, data type is an important concept.\n",
    "\n",
    "* Variables can store data of different types, and different types can do different things.\n",
    "* In Python, the data type is set when you assign a value to a variable: <br><br>\n",
    "    | Variable | Type |\n",
    "    | --- | --- |\n",
    "    | x = \"Hello World\" | str |\n",
    "    | x = 20 |\tint | \t\n",
    "    | x = 20.5 |float |\n",
    "\n",
    "    <br>\n",
    "\n",
    "    \n",
    "\n",
    "| Type | Description | Examples |\n",
    "| --- | --- | --- |\n",
    "|<font color = green> int (integer) </font> | Same as integers in mathematics. They can be positive or negative. | 1, 100, -1, -100 |\n",
    "|<font color = green> float (floating-point number) </font>\t| Same as real numbers. | 3.1415, -0.9923 |\n",
    "|<font color = green> bool (Boolean value) </font>\t| True or False | True, False |\n",
    "|<font color = green> str (string) </font>\t| Same as human-readable text, like words and sentences, delimited by single quotes (') or double quotes (\") in Python| 'This is a string!', \"This is also a string\", 'x' |\n",
    "|<font color = green> list </font>\t| A mutable collection of objects in a sequence, delimited by square brackets ( \\[ \\] ). The objects in Python do not need to be all of the same type. |\t\\[4, 3.14, 'abc'\\], \\['a', 'b', ['c', 'd'\\], 'e'] |\n",
    "|<font color = green> tuple </font>\t | An immutable collection of objects in a sequence, delimited by square brackets ( \\( \\) ). The objects in Python do not need to be all of the same type. |\t\\(4, 3.14, 'abc'\\), \\('a', 'b', ('c', 'd'\\), 'e') |\n",
    "|<font color = green> set | A collection of unique elements, delimited by curly brackets ( { } ). The objects in Python do not need to be all of the same type, and their order do not matter. | {4, 3.14, ‘abc’} |\n",
    "|<font color = green> dict (dictionary) </font>\t| A set key value pairs. The first element in each pair is the <b>key</b> and the second is the <b>value</b>. The key can be used to access the value. | {'Jones':3471124, 'Larson':3472289, 'Smith':3471288} |\n",
    "\n",
    "\n",
    "### Getting the Data Type\n",
    "\n",
    "You can get the data type of any object by using the <font color = green> <pre>type()</pre> </font> function:"
   ]
  },
  {
   "cell_type": "markdown",
   "metadata": {},
   "source": [
    "<b><u>Exercise 2:</u> Printing the data type of x: </b>"
   ]
  },
  {
   "cell_type": "code",
   "execution_count": 4,
   "metadata": {},
   "outputs": [
    {
     "name": "stdout",
     "output_type": "stream",
     "text": [
      "<class 'int'>\n"
     ]
    }
   ],
   "source": [
    "x = 5\n",
    "print(type(x))"
   ]
  },
  {
   "cell_type": "markdown",
   "metadata": {},
   "source": [
    "<b><u>Exercise 3:</u> More data types! : </b>"
   ]
  },
  {
   "cell_type": "code",
   "execution_count": 7,
   "metadata": {},
   "outputs": [
    {
     "name": "stdout",
     "output_type": "stream",
     "text": [
      "1. Type of 5 is:  <class 'int'>\n",
      "2. Type of 'hello world is':  <class 'str'>\n",
      "3. Type of [3,4,5] is:  <class 'list'>\n",
      "4. Type of True is:  <class 'bool'>\n",
      "5. Type of (1,2,3,4) is:  <class 'tuple'>\n"
     ]
    }
   ],
   "source": [
    "print(\"1. Type of 5 is: \", type(5))\n",
    "print(\"2. Type of 'hello world is': \", type('hello world'))\n",
    "print(\"3. Type of [3,4,5] is: \", type([3,4,5]))\n",
    "print(\"4. Type of True is: \", type(True))\n",
    "print(\"5. Type of (1,2,3,4) is: \", type((1,2,3,4)))"
   ]
  },
  {
   "cell_type": "markdown",
   "metadata": {},
   "source": [
    "## <u>Typecasting</u>"
   ]
  },
  {
   "cell_type": "markdown",
   "metadata": {},
   "source": [
    "There may be times when you want to specify a type on to a variable. This can be done with <u> casting </u>\n",
    "\n",
    "Casting in python is therefore done using the following functions:\n",
    "\n",
    "* <pre> int() </pre> constructs an integer number from an integer literal, a float literal (by removing all decimals), or a string literal (providing the string represents a whole number) <br><br>\n",
    "* <pre> float() </pre> constructs a float number from an integer literal, a float literal or a string literal (providing the string represents a float or an integer) <br><br>\n",
    "* <pre> str() </pre> constructs a string from a wide variety of data types, including strings, integer literals and float literals\n"
   ]
  },
  {
   "cell_type": "markdown",
   "metadata": {},
   "source": [
    "<b><u>Exercise 4:</u> Lets try typecasting : </b>"
   ]
  },
  {
   "cell_type": "code",
   "execution_count": null,
   "metadata": {},
   "outputs": [],
   "source": [
    "a = int(-1)   # a will be 1\n",
    "b = int(2.8) # b will be 2\n",
    "c = int(\"3\") # c will be 3\n",
    "\n",
    "d = float(1)     # d will be 1.0\n",
    "e = float(2.8)   # e will be 2.8\n",
    "f = float(\"3\")   # f will be 3.0\n",
    "g = float(\"4.2\") # g will be 4.2\n",
    "\n",
    "x = str(\"s1\") # x will be 's1'\n",
    "y = str(2)    # y will be '2'\n",
    "z = str(3.0)  # z will be '3.0' \n",
    "\n",
    "print(a,b,c,d,e,f,g,x,y,z,sep=\"\\n\") # prints out ALL the variables defined above, each seperated by a line break to make it look neater!\n",
    "print() # acts as a new line\n",
    "print(\"Type of (y) is: \", type(y))"
   ]
  },
  {
   "cell_type": "markdown",
   "metadata": {},
   "source": [
    "## <u>Operators</u>"
   ]
  },
  {
   "cell_type": "markdown",
   "metadata": {},
   "source": [
    "Operators are used to perform operations on variables and values.<br>\n",
    "Many of the operators for integers and floats are precisely what we would expect from Mathematics.\n",
    "\n",
    "#### Basic Arithmetic Operators used in Python\n",
    "\n",
    "* Arithmetic operators are used with numeric values to perform common mathematical operations:\n",
    "\n",
    "| Operator | Name | Example |\n",
    "| --- | --- | --- |\n",
    "| + | Addition | x + y |\n",
    "| - | Subtraction | x -  y |\n",
    "| * | Multiplication | x * y |\n",
    "| / | Division | x / y |\n",
    "| % | Modulus | x % y | \n",
    "| ** | Exponential | x ** y |\n",
    "| // | Floor division | x // y |"
   ]
  },
  {
   "cell_type": "markdown",
   "metadata": {},
   "source": [
    "<b><u>Exercise 5:</u> Doing math in python : </b>"
   ]
  },
  {
   "cell_type": "code",
   "execution_count": null,
   "metadata": {},
   "outputs": [],
   "source": [
    "print(2 + 3)\n",
    "print(3 - 2)\n",
    "print(3 * 2)\n",
    "print(4 / 2)\n",
    "print(4 % 2) # Percentage character (%) gives us the remainder\n",
    "print(4 ** 2) \n",
    "print(4 // 2) # Double slashes (//) gives us the quotient\n",
    "\n",
    "\n",
    "## Try it yourself with other numbers by replacing x and y!\n",
    "\n",
    "x = 40\n",
    "y = 5\n",
    "\n",
    "q = x // y\n",
    "r = x % y\n",
    "s = x / y\n",
    "\n",
    "print(q)\n",
    "print(r)\n",
    "print(s)\n",
    "\n",
    "print(type(q))\n",
    "print(type(r))\n",
    "print(type(s)) # The result of dividing an integer by another is always a float, even if the division does not have a remainder."
   ]
  },
  {
   "cell_type": "markdown",
   "metadata": {},
   "source": [
    "<font color = red>IMPORTANT: when we mix integers and floats, the result is always a float.</font>"
   ]
  },
  {
   "cell_type": "markdown",
   "metadata": {},
   "source": [
    "#### Basic Assignment Operators used in Python\n",
    "\n",
    "* Assignment operators are used to assign values to variables:  \n",
    "\n",
    "| Operator | Example | Same as |\n",
    "| --- | --- | --- |\n",
    "|=| \tx = 5 |\tx = 5 \t|\n",
    "|+=| \tx += 3 |\tx = x + 3 |\t\n",
    "|-=| \tx -= 3 |\tx = x - 3 |\t\n",
    "|*=| \tx *= 3 |\tx = x * 3 |\t\n",
    "|/=| \tx /= 3 |\tx = x / 3 |\t\n",
    "|%=| \tx %= 3 |\tx = x % 3 |\t\n",
    "|//=| \tx //= 3 |\tx = x // 3|"
   ]
  },
  {
   "cell_type": "markdown",
   "metadata": {},
   "source": [
    "<b><u>Exercise 6:</u> What is x? : </b>"
   ]
  },
  {
   "cell_type": "code",
   "execution_count": null,
   "metadata": {},
   "outputs": [],
   "source": [
    "x = 6 \n",
    "\n",
    "# First operation\n",
    "x += 3\n",
    "\n",
    "# Second operation\n",
    "x -= 5\n",
    "\n",
    "# Third operation\n",
    "x *= 2\n",
    "\n",
    "print(\"Value of x is: \", x) # Can you work out the value of x without running the code?"
   ]
  },
  {
   "cell_type": "markdown",
   "metadata": {},
   "source": [
    "#### Basic Comparison Operators used in Python\n",
    "\n",
    "* Comparison operators are used to compare two values:\n",
    "\n",
    "| Operator | Name | Example |\n",
    "| --- | --- | --- |\n",
    "|== |\tEqual |\tx == y |\t\n",
    "|!= |\tNot equal |\tx != y |\t\n",
    "|> |\tGreater than |\tx > y \t|\n",
    "|< |\tLess than |\tx < y |\t\n",
    "|>= |\tGreater than or equal to |\tx >= y \t|\n",
    "|<= |\tLess than or equal to |\tx <= y|"
   ]
  },
  {
   "cell_type": "markdown",
   "metadata": {},
   "source": [
    "#### Logical Operators used in Python\n",
    "\n",
    "* Logical operators are used to combine conditional statements:\n",
    "\n",
    "| Operator | Description | Example |\n",
    "| --- | --- | --- |\n",
    "|and  |\tReturns True if both statements are true |\tx < 5 and  x < 10 \t|\n",
    "|or |\tReturns True if one of the statements is true |\tx < 5 or x < 4 \t|\n",
    "|not |\tReverse the result, returns False if the result is true |\tnot(x < 5 and x < 10)|"
   ]
  },
  {
   "cell_type": "markdown",
   "metadata": {},
   "source": [
    "#### Identity Operators used in Python\n",
    "\n",
    "* Identity operators are used to compare the objects, not if they are equal, but if they are actually the same object, with the same memory location:\n",
    "\n",
    "| Operator | Description | Example |\n",
    "| --- | --- | --- |\n",
    "|is  \t|Returns True if both variables are the same object |\tx is y \t|\n",
    "|is not |\tReturns True if both variables are not the same object |\tx is not y|"
   ]
  },
  {
   "cell_type": "markdown",
   "metadata": {},
   "source": [
    "#### Membership Operators used in Python\n",
    "\n",
    "* Membership operators are used to test if a sequence is presented in an object:\n",
    "\n",
    "| Operator | Description | Example |\n",
    "| --- | --- | --- |\n",
    "|in  \t|Returns True if a sequence with the specified value is present in the object \t|x in y \t|\n",
    "|not in |\tReturns True if a sequence with the specified value is not present in the object \t|x not in y|"
   ]
  },
  {
   "cell_type": "markdown",
   "metadata": {},
   "source": [
    "## <u>How do I reassign my Variables?</u>"
   ]
  },
  {
   "cell_type": "markdown",
   "metadata": {},
   "source": [
    "In python, the easiest way to reassign your variable's value is to assign it a new value\n",
    "\n",
    "* What do you think happens to the type of the variable after its value has been reassigned?"
   ]
  },
  {
   "cell_type": "markdown",
   "metadata": {},
   "source": [
    "<b><u>Exercise 7:</u> Reassigning variables : </b>"
   ]
  },
  {
   "cell_type": "code",
   "execution_count": null,
   "metadata": {},
   "outputs": [],
   "source": [
    "x = 3\n",
    "print(x)\n",
    "\n",
    "x = 5\n",
    "print(x)"
   ]
  },
  {
   "cell_type": "code",
   "execution_count": null,
   "metadata": {},
   "outputs": [],
   "source": [
    "# Sometimes the new value might depend on its previous value\n",
    "\n",
    "y = 3\n",
    "print(y)\n",
    "\n",
    "y = y+1\n",
    "print(y)\n",
    "\n",
    "y = y+1\n",
    "print(y)"
   ]
  },
  {
   "cell_type": "code",
   "execution_count": null,
   "metadata": {},
   "outputs": [],
   "source": [
    "# You can also swap the values of variables\n",
    "\n",
    "a, b = 3, 5\n",
    "print(a)\n",
    "print(b)\n",
    "\n",
    "a, b = b, a\n",
    "print(a)\n",
    "print(b)"
   ]
  },
  {
   "cell_type": "markdown",
   "metadata": {},
   "source": [
    "<b><u>Exercise 8:</u> Help! My code does not work - I am trying to swap the values of a and b like the example above! : </b>\n",
    "\n",
    "* Can you figure out why this code snippet does not work as intended?"
   ]
  },
  {
   "cell_type": "code",
   "execution_count": null,
   "metadata": {},
   "outputs": [],
   "source": [
    "a, b = 3, 5\n",
    "print(a)\n",
    "print(b)\n",
    "\n",
    "a = b\n",
    "b = a\n",
    "print(a)\n",
    "print(b)"
   ]
  }
 ],
 "metadata": {
  "kernelspec": {
   "display_name": "Python 3",
   "language": "python",
   "name": "python3"
  },
  "language_info": {
   "codemirror_mode": {
    "name": "ipython",
    "version": 3
   },
   "file_extension": ".py",
   "mimetype": "text/x-python",
   "name": "python",
   "nbconvert_exporter": "python",
   "pygments_lexer": "ipython3",
   "version": "3.11.4"
  }
 },
 "nbformat": 4,
 "nbformat_minor": 2
}
